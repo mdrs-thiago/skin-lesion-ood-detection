{
 "cells": [
  {
   "cell_type": "code",
   "execution_count": 1,
   "metadata": {},
   "outputs": [
    {
     "name": "stderr",
     "output_type": "stream",
     "text": [
      "d:\\thiago\\phd\\gradvec\\lib\\site-packages\\tqdm\\auto.py:22: TqdmWarning: IProgress not found. Please update jupyter and ipywidgets. See https://ipywidgets.readthedocs.io/en/stable/user_install.html\n",
      "  from .autonotebook import tqdm as notebook_tqdm\n"
     ]
    }
   ],
   "source": [
    "import pandas as pd \n",
    "import numpy as np \n",
    "import os \n",
    "from glob import glob\n",
    "\n",
    "from PIL import Image \n",
    "\n",
    "import torch \n",
    "from torch.utils.data import Dataset, DataLoader\n",
    "from torchvision import transforms\n",
    "import torch.nn as nn\n",
    "from torch.autograd import Variable\n",
    "import torch.nn.functional as F\n",
    "\n",
    "from tqdm import tqdm \n",
    "\n",
    "from sklearn.utils.class_weight import compute_class_weight\n",
    "from sklearn.model_selection import train_test_split\n",
    "\n",
    "import matplotlib.pyplot as plt \n",
    "\n",
    "from transformers import AutoFeatureExtractor, AutoModelForImageClassification"
   ]
  },
  {
   "cell_type": "code",
   "execution_count": 2,
   "metadata": {},
   "outputs": [],
   "source": [
    "df = pd.read_csv('HAM10000_metadata')\n",
    "\n",
    "lesion_type_dict = {\n",
    "    'nv': 'Melanocytic nevi',\n",
    "    'mel': 'Melanoma',\n",
    "    'bkl': 'Benign keratosis-like lesions ',\n",
    "    'bcc': 'Basal cell carcinoma',\n",
    "    'akiec': 'Actinic keratoses',\n",
    "    'vasc': 'Vascular lesions',\n",
    "    'df': 'Dermatofibroma'\n",
    "}\n"
   ]
  },
  {
   "cell_type": "code",
   "execution_count": 3,
   "metadata": {},
   "outputs": [],
   "source": [
    "df['cell_type'] = df['dx'].map(lesion_type_dict.get)"
   ]
  },
  {
   "cell_type": "code",
   "execution_count": 4,
   "metadata": {},
   "outputs": [],
   "source": [
    "df['image_id'] += '.jpg'"
   ]
  },
  {
   "attachments": {},
   "cell_type": "markdown",
   "metadata": {},
   "source": [
    "#### Let us select Dermatofibroma and Vascular lesions as OOD classes. :)"
   ]
  },
  {
   "cell_type": "code",
   "execution_count": 5,
   "metadata": {},
   "outputs": [],
   "source": [
    "ood_classes = ['df','vasc','akiec']"
   ]
  },
  {
   "cell_type": "code",
   "execution_count": 6,
   "metadata": {},
   "outputs": [],
   "source": [
    "ood_df = df[df['dx'].isin(ood_classes)].copy()"
   ]
  },
  {
   "cell_type": "code",
   "execution_count": 7,
   "metadata": {},
   "outputs": [],
   "source": [
    "ood_df['cell_type_idx'] = pd.Categorical(ood_df['cell_type']).codes\n",
    "ood_df.reset_index(inplace=True)"
   ]
  },
  {
   "cell_type": "code",
   "execution_count": 113,
   "metadata": {},
   "outputs": [
    {
     "data": {
      "text/html": [
       "<div>\n",
       "<style scoped>\n",
       "    .dataframe tbody tr th:only-of-type {\n",
       "        vertical-align: middle;\n",
       "    }\n",
       "\n",
       "    .dataframe tbody tr th {\n",
       "        vertical-align: top;\n",
       "    }\n",
       "\n",
       "    .dataframe thead th {\n",
       "        text-align: right;\n",
       "    }\n",
       "</style>\n",
       "<table border=\"1\" class=\"dataframe\">\n",
       "  <thead>\n",
       "    <tr style=\"text-align: right;\">\n",
       "      <th></th>\n",
       "      <th>index</th>\n",
       "      <th>lesion_id</th>\n",
       "      <th>image_id</th>\n",
       "      <th>dx</th>\n",
       "      <th>dx_type</th>\n",
       "      <th>age</th>\n",
       "      <th>sex</th>\n",
       "      <th>localization</th>\n",
       "      <th>dataset</th>\n",
       "      <th>cell_type</th>\n",
       "      <th>cell_type_idx</th>\n",
       "    </tr>\n",
       "  </thead>\n",
       "  <tbody>\n",
       "    <tr>\n",
       "      <th>413</th>\n",
       "      <td>9843</td>\n",
       "      <td>HAM_0004809</td>\n",
       "      <td>ISIC_0029840.jpg</td>\n",
       "      <td>akiec</td>\n",
       "      <td>histo</td>\n",
       "      <td>60.0</td>\n",
       "      <td>male</td>\n",
       "      <td>face</td>\n",
       "      <td>rosendahl</td>\n",
       "      <td>Actinic keratoses</td>\n",
       "      <td>0</td>\n",
       "    </tr>\n",
       "    <tr>\n",
       "      <th>49</th>\n",
       "      <td>1144</td>\n",
       "      <td>HAM_0003110</td>\n",
       "      <td>ISIC_0026789.jpg</td>\n",
       "      <td>df</td>\n",
       "      <td>histo</td>\n",
       "      <td>65.0</td>\n",
       "      <td>male</td>\n",
       "      <td>lower extremity</td>\n",
       "      <td>rosendahl</td>\n",
       "      <td>Dermatofibroma</td>\n",
       "      <td>1</td>\n",
       "    </tr>\n",
       "    <tr>\n",
       "      <th>578</th>\n",
       "      <td>10008</td>\n",
       "      <td>HAM_0001576</td>\n",
       "      <td>ISIC_0033705.jpg</td>\n",
       "      <td>akiec</td>\n",
       "      <td>histo</td>\n",
       "      <td>60.0</td>\n",
       "      <td>male</td>\n",
       "      <td>face</td>\n",
       "      <td>vidir_modern</td>\n",
       "      <td>Actinic keratoses</td>\n",
       "      <td>0</td>\n",
       "    </tr>\n",
       "    <tr>\n",
       "      <th>412</th>\n",
       "      <td>9842</td>\n",
       "      <td>HAM_0004609</td>\n",
       "      <td>ISIC_0030785.jpg</td>\n",
       "      <td>akiec</td>\n",
       "      <td>histo</td>\n",
       "      <td>75.0</td>\n",
       "      <td>male</td>\n",
       "      <td>back</td>\n",
       "      <td>rosendahl</td>\n",
       "      <td>Actinic keratoses</td>\n",
       "      <td>0</td>\n",
       "    </tr>\n",
       "    <tr>\n",
       "      <th>463</th>\n",
       "      <td>9893</td>\n",
       "      <td>HAM_0007349</td>\n",
       "      <td>ISIC_0029462.jpg</td>\n",
       "      <td>akiec</td>\n",
       "      <td>histo</td>\n",
       "      <td>60.0</td>\n",
       "      <td>male</td>\n",
       "      <td>back</td>\n",
       "      <td>rosendahl</td>\n",
       "      <td>Actinic keratoses</td>\n",
       "      <td>0</td>\n",
       "    </tr>\n",
       "    <tr>\n",
       "      <th>428</th>\n",
       "      <td>9858</td>\n",
       "      <td>HAM_0004568</td>\n",
       "      <td>ISIC_0027529.jpg</td>\n",
       "      <td>akiec</td>\n",
       "      <td>histo</td>\n",
       "      <td>50.0</td>\n",
       "      <td>male</td>\n",
       "      <td>upper extremity</td>\n",
       "      <td>rosendahl</td>\n",
       "      <td>Actinic keratoses</td>\n",
       "      <td>0</td>\n",
       "    </tr>\n",
       "    <tr>\n",
       "      <th>284</th>\n",
       "      <td>9714</td>\n",
       "      <td>HAM_0006893</td>\n",
       "      <td>ISIC_0027084.jpg</td>\n",
       "      <td>akiec</td>\n",
       "      <td>histo</td>\n",
       "      <td>65.0</td>\n",
       "      <td>female</td>\n",
       "      <td>lower extremity</td>\n",
       "      <td>rosendahl</td>\n",
       "      <td>Actinic keratoses</td>\n",
       "      <td>0</td>\n",
       "    </tr>\n",
       "    <tr>\n",
       "      <th>534</th>\n",
       "      <td>9964</td>\n",
       "      <td>HAM_0001903</td>\n",
       "      <td>ISIC_0026984.jpg</td>\n",
       "      <td>akiec</td>\n",
       "      <td>histo</td>\n",
       "      <td>50.0</td>\n",
       "      <td>male</td>\n",
       "      <td>face</td>\n",
       "      <td>rosendahl</td>\n",
       "      <td>Actinic keratoses</td>\n",
       "      <td>0</td>\n",
       "    </tr>\n",
       "    <tr>\n",
       "      <th>334</th>\n",
       "      <td>9764</td>\n",
       "      <td>HAM_0006482</td>\n",
       "      <td>ISIC_0027506.jpg</td>\n",
       "      <td>akiec</td>\n",
       "      <td>histo</td>\n",
       "      <td>55.0</td>\n",
       "      <td>female</td>\n",
       "      <td>hand</td>\n",
       "      <td>rosendahl</td>\n",
       "      <td>Actinic keratoses</td>\n",
       "      <td>0</td>\n",
       "    </tr>\n",
       "    <tr>\n",
       "      <th>572</th>\n",
       "      <td>10002</td>\n",
       "      <td>HAM_0006442</td>\n",
       "      <td>ISIC_0032947.jpg</td>\n",
       "      <td>akiec</td>\n",
       "      <td>histo</td>\n",
       "      <td>70.0</td>\n",
       "      <td>male</td>\n",
       "      <td>hand</td>\n",
       "      <td>vidir_modern</td>\n",
       "      <td>Actinic keratoses</td>\n",
       "      <td>0</td>\n",
       "    </tr>\n",
       "  </tbody>\n",
       "</table>\n",
       "</div>"
      ],
      "text/plain": [
       "     index    lesion_id          image_id     dx dx_type   age     sex  \\\n",
       "413   9843  HAM_0004809  ISIC_0029840.jpg  akiec   histo  60.0    male   \n",
       "49    1144  HAM_0003110  ISIC_0026789.jpg     df   histo  65.0    male   \n",
       "578  10008  HAM_0001576  ISIC_0033705.jpg  akiec   histo  60.0    male   \n",
       "412   9842  HAM_0004609  ISIC_0030785.jpg  akiec   histo  75.0    male   \n",
       "463   9893  HAM_0007349  ISIC_0029462.jpg  akiec   histo  60.0    male   \n",
       "428   9858  HAM_0004568  ISIC_0027529.jpg  akiec   histo  50.0    male   \n",
       "284   9714  HAM_0006893  ISIC_0027084.jpg  akiec   histo  65.0  female   \n",
       "534   9964  HAM_0001903  ISIC_0026984.jpg  akiec   histo  50.0    male   \n",
       "334   9764  HAM_0006482  ISIC_0027506.jpg  akiec   histo  55.0  female   \n",
       "572  10002  HAM_0006442  ISIC_0032947.jpg  akiec   histo  70.0    male   \n",
       "\n",
       "        localization       dataset          cell_type  cell_type_idx  \n",
       "413             face     rosendahl  Actinic keratoses              0  \n",
       "49   lower extremity     rosendahl     Dermatofibroma              1  \n",
       "578             face  vidir_modern  Actinic keratoses              0  \n",
       "412             back     rosendahl  Actinic keratoses              0  \n",
       "463             back     rosendahl  Actinic keratoses              0  \n",
       "428  upper extremity     rosendahl  Actinic keratoses              0  \n",
       "284  lower extremity     rosendahl  Actinic keratoses              0  \n",
       "534             face     rosendahl  Actinic keratoses              0  \n",
       "334             hand     rosendahl  Actinic keratoses              0  \n",
       "572             hand  vidir_modern  Actinic keratoses              0  "
      ]
     },
     "execution_count": 113,
     "metadata": {},
     "output_type": "execute_result"
    }
   ],
   "source": [
    "ood_df.sample(10)"
   ]
  },
  {
   "cell_type": "code",
   "execution_count": 8,
   "metadata": {},
   "outputs": [],
   "source": [
    "df_in = df.drop(df[df['dx'].isin(ood_classes)].index).copy()"
   ]
  },
  {
   "cell_type": "code",
   "execution_count": 9,
   "metadata": {},
   "outputs": [
    {
     "data": {
      "text/html": [
       "<div>\n",
       "<style scoped>\n",
       "    .dataframe tbody tr th:only-of-type {\n",
       "        vertical-align: middle;\n",
       "    }\n",
       "\n",
       "    .dataframe tbody tr th {\n",
       "        vertical-align: top;\n",
       "    }\n",
       "\n",
       "    .dataframe thead th {\n",
       "        text-align: right;\n",
       "    }\n",
       "</style>\n",
       "<table border=\"1\" class=\"dataframe\">\n",
       "  <thead>\n",
       "    <tr style=\"text-align: right;\">\n",
       "      <th></th>\n",
       "      <th>lesion_id</th>\n",
       "      <th>image_id</th>\n",
       "      <th>dx</th>\n",
       "      <th>dx_type</th>\n",
       "      <th>age</th>\n",
       "      <th>sex</th>\n",
       "      <th>localization</th>\n",
       "      <th>dataset</th>\n",
       "      <th>cell_type</th>\n",
       "    </tr>\n",
       "  </thead>\n",
       "  <tbody>\n",
       "    <tr>\n",
       "      <th>5014</th>\n",
       "      <td>HAM_0006227</td>\n",
       "      <td>ISIC_0031264.jpg</td>\n",
       "      <td>nv</td>\n",
       "      <td>follow_up</td>\n",
       "      <td>45.0</td>\n",
       "      <td>female</td>\n",
       "      <td>abdomen</td>\n",
       "      <td>vidir_molemax</td>\n",
       "      <td>Melanocytic nevi</td>\n",
       "    </tr>\n",
       "    <tr>\n",
       "      <th>8860</th>\n",
       "      <td>HAM_0003987</td>\n",
       "      <td>ISIC_0031813.jpg</td>\n",
       "      <td>nv</td>\n",
       "      <td>histo</td>\n",
       "      <td>40.0</td>\n",
       "      <td>female</td>\n",
       "      <td>lower extremity</td>\n",
       "      <td>rosendahl</td>\n",
       "      <td>Melanocytic nevi</td>\n",
       "    </tr>\n",
       "    <tr>\n",
       "      <th>5718</th>\n",
       "      <td>HAM_0003342</td>\n",
       "      <td>ISIC_0027726.jpg</td>\n",
       "      <td>nv</td>\n",
       "      <td>follow_up</td>\n",
       "      <td>60.0</td>\n",
       "      <td>male</td>\n",
       "      <td>upper extremity</td>\n",
       "      <td>vidir_molemax</td>\n",
       "      <td>Melanocytic nevi</td>\n",
       "    </tr>\n",
       "    <tr>\n",
       "      <th>933</th>\n",
       "      <td>HAM_0004258</td>\n",
       "      <td>ISIC_0033783.jpg</td>\n",
       "      <td>bkl</td>\n",
       "      <td>consensus</td>\n",
       "      <td>85.0</td>\n",
       "      <td>male</td>\n",
       "      <td>chest</td>\n",
       "      <td>vidir_modern</td>\n",
       "      <td>Benign keratosis-like lesions</td>\n",
       "    </tr>\n",
       "    <tr>\n",
       "      <th>443</th>\n",
       "      <td>HAM_0007563</td>\n",
       "      <td>ISIC_0025075.jpg</td>\n",
       "      <td>bkl</td>\n",
       "      <td>histo</td>\n",
       "      <td>60.0</td>\n",
       "      <td>male</td>\n",
       "      <td>upper extremity</td>\n",
       "      <td>rosendahl</td>\n",
       "      <td>Benign keratosis-like lesions</td>\n",
       "    </tr>\n",
       "    <tr>\n",
       "      <th>4656</th>\n",
       "      <td>HAM_0002492</td>\n",
       "      <td>ISIC_0028875.jpg</td>\n",
       "      <td>nv</td>\n",
       "      <td>follow_up</td>\n",
       "      <td>70.0</td>\n",
       "      <td>male</td>\n",
       "      <td>back</td>\n",
       "      <td>vidir_molemax</td>\n",
       "      <td>Melanocytic nevi</td>\n",
       "    </tr>\n",
       "    <tr>\n",
       "      <th>4864</th>\n",
       "      <td>HAM_0007547</td>\n",
       "      <td>ISIC_0025429.jpg</td>\n",
       "      <td>nv</td>\n",
       "      <td>follow_up</td>\n",
       "      <td>65.0</td>\n",
       "      <td>male</td>\n",
       "      <td>abdomen</td>\n",
       "      <td>vidir_molemax</td>\n",
       "      <td>Melanocytic nevi</td>\n",
       "    </tr>\n",
       "    <tr>\n",
       "      <th>3511</th>\n",
       "      <td>HAM_0005211</td>\n",
       "      <td>ISIC_0030282.jpg</td>\n",
       "      <td>nv</td>\n",
       "      <td>follow_up</td>\n",
       "      <td>50.0</td>\n",
       "      <td>female</td>\n",
       "      <td>upper extremity</td>\n",
       "      <td>vidir_molemax</td>\n",
       "      <td>Melanocytic nevi</td>\n",
       "    </tr>\n",
       "    <tr>\n",
       "      <th>434</th>\n",
       "      <td>HAM_0006123</td>\n",
       "      <td>ISIC_0025275.jpg</td>\n",
       "      <td>bkl</td>\n",
       "      <td>histo</td>\n",
       "      <td>70.0</td>\n",
       "      <td>female</td>\n",
       "      <td>back</td>\n",
       "      <td>rosendahl</td>\n",
       "      <td>Benign keratosis-like lesions</td>\n",
       "    </tr>\n",
       "    <tr>\n",
       "      <th>9535</th>\n",
       "      <td>HAM_0003809</td>\n",
       "      <td>ISIC_0032402.jpg</td>\n",
       "      <td>nv</td>\n",
       "      <td>consensus</td>\n",
       "      <td>40.0</td>\n",
       "      <td>male</td>\n",
       "      <td>unknown</td>\n",
       "      <td>vidir_modern</td>\n",
       "      <td>Melanocytic nevi</td>\n",
       "    </tr>\n",
       "  </tbody>\n",
       "</table>\n",
       "</div>"
      ],
      "text/plain": [
       "        lesion_id          image_id   dx    dx_type   age     sex  \\\n",
       "5014  HAM_0006227  ISIC_0031264.jpg   nv  follow_up  45.0  female   \n",
       "8860  HAM_0003987  ISIC_0031813.jpg   nv      histo  40.0  female   \n",
       "5718  HAM_0003342  ISIC_0027726.jpg   nv  follow_up  60.0    male   \n",
       "933   HAM_0004258  ISIC_0033783.jpg  bkl  consensus  85.0    male   \n",
       "443   HAM_0007563  ISIC_0025075.jpg  bkl      histo  60.0    male   \n",
       "4656  HAM_0002492  ISIC_0028875.jpg   nv  follow_up  70.0    male   \n",
       "4864  HAM_0007547  ISIC_0025429.jpg   nv  follow_up  65.0    male   \n",
       "3511  HAM_0005211  ISIC_0030282.jpg   nv  follow_up  50.0  female   \n",
       "434   HAM_0006123  ISIC_0025275.jpg  bkl      histo  70.0  female   \n",
       "9535  HAM_0003809  ISIC_0032402.jpg   nv  consensus  40.0    male   \n",
       "\n",
       "         localization        dataset                       cell_type  \n",
       "5014          abdomen  vidir_molemax                Melanocytic nevi  \n",
       "8860  lower extremity      rosendahl                Melanocytic nevi  \n",
       "5718  upper extremity  vidir_molemax                Melanocytic nevi  \n",
       "933             chest   vidir_modern  Benign keratosis-like lesions   \n",
       "443   upper extremity      rosendahl  Benign keratosis-like lesions   \n",
       "4656             back  vidir_molemax                Melanocytic nevi  \n",
       "4864          abdomen  vidir_molemax                Melanocytic nevi  \n",
       "3511  upper extremity  vidir_molemax                Melanocytic nevi  \n",
       "434              back      rosendahl  Benign keratosis-like lesions   \n",
       "9535          unknown   vidir_modern                Melanocytic nevi  "
      ]
     },
     "execution_count": 9,
     "metadata": {},
     "output_type": "execute_result"
    }
   ],
   "source": [
    "df_in.sample(10)"
   ]
  },
  {
   "cell_type": "code",
   "execution_count": 10,
   "metadata": {},
   "outputs": [],
   "source": [
    "df_in['cell_type_idx'] = pd.Categorical(df_in['cell_type']).codes"
   ]
  },
  {
   "cell_type": "code",
   "execution_count": 11,
   "metadata": {},
   "outputs": [],
   "source": [
    "df_train, df_val = train_test_split(df_in, test_size=0.2)"
   ]
  },
  {
   "cell_type": "code",
   "execution_count": 12,
   "metadata": {},
   "outputs": [],
   "source": [
    "df_train.reset_index(inplace=True)\n",
    "df_val.reset_index(inplace=True)"
   ]
  },
  {
   "cell_type": "code",
   "execution_count": 13,
   "metadata": {},
   "outputs": [
    {
     "data": {
      "text/html": [
       "<div>\n",
       "<style scoped>\n",
       "    .dataframe tbody tr th:only-of-type {\n",
       "        vertical-align: middle;\n",
       "    }\n",
       "\n",
       "    .dataframe tbody tr th {\n",
       "        vertical-align: top;\n",
       "    }\n",
       "\n",
       "    .dataframe thead th {\n",
       "        text-align: right;\n",
       "    }\n",
       "</style>\n",
       "<table border=\"1\" class=\"dataframe\">\n",
       "  <thead>\n",
       "    <tr style=\"text-align: right;\">\n",
       "      <th></th>\n",
       "      <th>lesion_id</th>\n",
       "      <th>image_id</th>\n",
       "      <th>dx</th>\n",
       "      <th>dx_type</th>\n",
       "      <th>age</th>\n",
       "      <th>sex</th>\n",
       "      <th>localization</th>\n",
       "      <th>dataset</th>\n",
       "      <th>cell_type</th>\n",
       "      <th>cell_type_idx</th>\n",
       "    </tr>\n",
       "  </thead>\n",
       "  <tbody>\n",
       "    <tr>\n",
       "      <th>2462</th>\n",
       "      <td>HAM_0000781</td>\n",
       "      <td>ISIC_0028155.jpg</td>\n",
       "      <td>bcc</td>\n",
       "      <td>histo</td>\n",
       "      <td>50.0</td>\n",
       "      <td>male</td>\n",
       "      <td>back</td>\n",
       "      <td>vidir_modern</td>\n",
       "      <td>Basal cell carcinoma</td>\n",
       "      <td>0</td>\n",
       "    </tr>\n",
       "    <tr>\n",
       "      <th>2463</th>\n",
       "      <td>HAM_0003220</td>\n",
       "      <td>ISIC_0034093.jpg</td>\n",
       "      <td>bcc</td>\n",
       "      <td>histo</td>\n",
       "      <td>80.0</td>\n",
       "      <td>female</td>\n",
       "      <td>face</td>\n",
       "      <td>vidir_modern</td>\n",
       "      <td>Basal cell carcinoma</td>\n",
       "      <td>0</td>\n",
       "    </tr>\n",
       "    <tr>\n",
       "      <th>2464</th>\n",
       "      <td>HAM_0007141</td>\n",
       "      <td>ISIC_0029230.jpg</td>\n",
       "      <td>bcc</td>\n",
       "      <td>histo</td>\n",
       "      <td>50.0</td>\n",
       "      <td>male</td>\n",
       "      <td>trunk</td>\n",
       "      <td>vidir_modern</td>\n",
       "      <td>Basal cell carcinoma</td>\n",
       "      <td>0</td>\n",
       "    </tr>\n",
       "    <tr>\n",
       "      <th>2465</th>\n",
       "      <td>HAM_0007141</td>\n",
       "      <td>ISIC_0031513.jpg</td>\n",
       "      <td>bcc</td>\n",
       "      <td>histo</td>\n",
       "      <td>50.0</td>\n",
       "      <td>male</td>\n",
       "      <td>trunk</td>\n",
       "      <td>vidir_modern</td>\n",
       "      <td>Basal cell carcinoma</td>\n",
       "      <td>0</td>\n",
       "    </tr>\n",
       "    <tr>\n",
       "      <th>2466</th>\n",
       "      <td>HAM_0007009</td>\n",
       "      <td>ISIC_0032384.jpg</td>\n",
       "      <td>bcc</td>\n",
       "      <td>histo</td>\n",
       "      <td>50.0</td>\n",
       "      <td>male</td>\n",
       "      <td>back</td>\n",
       "      <td>vidir_modern</td>\n",
       "      <td>Basal cell carcinoma</td>\n",
       "      <td>0</td>\n",
       "    </tr>\n",
       "    <tr>\n",
       "      <th>...</th>\n",
       "      <td>...</td>\n",
       "      <td>...</td>\n",
       "      <td>...</td>\n",
       "      <td>...</td>\n",
       "      <td>...</td>\n",
       "      <td>...</td>\n",
       "      <td>...</td>\n",
       "      <td>...</td>\n",
       "      <td>...</td>\n",
       "      <td>...</td>\n",
       "    </tr>\n",
       "    <tr>\n",
       "      <th>2971</th>\n",
       "      <td>HAM_0001573</td>\n",
       "      <td>ISIC_0028542.jpg</td>\n",
       "      <td>bcc</td>\n",
       "      <td>histo</td>\n",
       "      <td>45.0</td>\n",
       "      <td>male</td>\n",
       "      <td>chest</td>\n",
       "      <td>vidir_modern</td>\n",
       "      <td>Basal cell carcinoma</td>\n",
       "      <td>0</td>\n",
       "    </tr>\n",
       "    <tr>\n",
       "      <th>2972</th>\n",
       "      <td>HAM_0001215</td>\n",
       "      <td>ISIC_0025260.jpg</td>\n",
       "      <td>bcc</td>\n",
       "      <td>histo</td>\n",
       "      <td>70.0</td>\n",
       "      <td>male</td>\n",
       "      <td>back</td>\n",
       "      <td>vidir_modern</td>\n",
       "      <td>Basal cell carcinoma</td>\n",
       "      <td>0</td>\n",
       "    </tr>\n",
       "    <tr>\n",
       "      <th>2973</th>\n",
       "      <td>HAM_0001215</td>\n",
       "      <td>ISIC_0031531.jpg</td>\n",
       "      <td>bcc</td>\n",
       "      <td>histo</td>\n",
       "      <td>70.0</td>\n",
       "      <td>male</td>\n",
       "      <td>back</td>\n",
       "      <td>vidir_modern</td>\n",
       "      <td>Basal cell carcinoma</td>\n",
       "      <td>0</td>\n",
       "    </tr>\n",
       "    <tr>\n",
       "      <th>2974</th>\n",
       "      <td>HAM_0005026</td>\n",
       "      <td>ISIC_0028978.jpg</td>\n",
       "      <td>bcc</td>\n",
       "      <td>histo</td>\n",
       "      <td>40.0</td>\n",
       "      <td>female</td>\n",
       "      <td>abdomen</td>\n",
       "      <td>vidir_modern</td>\n",
       "      <td>Basal cell carcinoma</td>\n",
       "      <td>0</td>\n",
       "    </tr>\n",
       "    <tr>\n",
       "      <th>2975</th>\n",
       "      <td>HAM_0005026</td>\n",
       "      <td>ISIC_0028728.jpg</td>\n",
       "      <td>bcc</td>\n",
       "      <td>histo</td>\n",
       "      <td>40.0</td>\n",
       "      <td>female</td>\n",
       "      <td>abdomen</td>\n",
       "      <td>vidir_modern</td>\n",
       "      <td>Basal cell carcinoma</td>\n",
       "      <td>0</td>\n",
       "    </tr>\n",
       "  </tbody>\n",
       "</table>\n",
       "<p>514 rows × 10 columns</p>\n",
       "</div>"
      ],
      "text/plain": [
       "        lesion_id          image_id   dx dx_type   age     sex localization  \\\n",
       "2462  HAM_0000781  ISIC_0028155.jpg  bcc   histo  50.0    male         back   \n",
       "2463  HAM_0003220  ISIC_0034093.jpg  bcc   histo  80.0  female         face   \n",
       "2464  HAM_0007141  ISIC_0029230.jpg  bcc   histo  50.0    male        trunk   \n",
       "2465  HAM_0007141  ISIC_0031513.jpg  bcc   histo  50.0    male        trunk   \n",
       "2466  HAM_0007009  ISIC_0032384.jpg  bcc   histo  50.0    male         back   \n",
       "...           ...               ...  ...     ...   ...     ...          ...   \n",
       "2971  HAM_0001573  ISIC_0028542.jpg  bcc   histo  45.0    male        chest   \n",
       "2972  HAM_0001215  ISIC_0025260.jpg  bcc   histo  70.0    male         back   \n",
       "2973  HAM_0001215  ISIC_0031531.jpg  bcc   histo  70.0    male         back   \n",
       "2974  HAM_0005026  ISIC_0028978.jpg  bcc   histo  40.0  female      abdomen   \n",
       "2975  HAM_0005026  ISIC_0028728.jpg  bcc   histo  40.0  female      abdomen   \n",
       "\n",
       "           dataset             cell_type  cell_type_idx  \n",
       "2462  vidir_modern  Basal cell carcinoma              0  \n",
       "2463  vidir_modern  Basal cell carcinoma              0  \n",
       "2464  vidir_modern  Basal cell carcinoma              0  \n",
       "2465  vidir_modern  Basal cell carcinoma              0  \n",
       "2466  vidir_modern  Basal cell carcinoma              0  \n",
       "...            ...                   ...            ...  \n",
       "2971  vidir_modern  Basal cell carcinoma              0  \n",
       "2972  vidir_modern  Basal cell carcinoma              0  \n",
       "2973  vidir_modern  Basal cell carcinoma              0  \n",
       "2974  vidir_modern  Basal cell carcinoma              0  \n",
       "2975  vidir_modern  Basal cell carcinoma              0  \n",
       "\n",
       "[514 rows x 10 columns]"
      ]
     },
     "execution_count": 13,
     "metadata": {},
     "output_type": "execute_result"
    }
   ],
   "source": [
    "df_in[df_in['cell_type_idx']==0]"
   ]
  },
  {
   "attachments": {},
   "cell_type": "markdown",
   "metadata": {},
   "source": [
    "#### Data preparation"
   ]
  },
  {
   "cell_type": "code",
   "execution_count": 14,
   "metadata": {},
   "outputs": [],
   "source": [
    "class HAM10000(Dataset):\n",
    "    def __init__(self, df, transform) -> None:\n",
    "        super().__init__()\n",
    "        self.df = df \n",
    "        self.transform = transform \n",
    "\n",
    "    def __getitem__(self, idx):\n",
    "        X = self.transform(Image.open(os.path.join('HAM10000_images',self.df['image_id'][idx])))\n",
    "        y = torch.tensor(int(self.df['cell_type_idx'][idx]))\n",
    "        return X, y \n",
    "    \n",
    "    def __len__(self):\n",
    "        return self.df.shape[0]\n",
    "    "
   ]
  },
  {
   "cell_type": "code",
   "execution_count": 15,
   "metadata": {},
   "outputs": [],
   "source": [
    "classes = df_in['cell_type_idx'].nunique()\n",
    "device = 'cuda' if torch.cuda.is_available else 'cpu'\n"
   ]
  },
  {
   "cell_type": "code",
   "execution_count": null,
   "metadata": {},
   "outputs": [],
   "source": []
  },
  {
   "cell_type": "code",
   "execution_count": 16,
   "metadata": {},
   "outputs": [
    {
     "name": "stderr",
     "output_type": "stream",
     "text": [
      "d:\\thiago\\phd\\gradvec\\lib\\site-packages\\transformers\\models\\vit\\feature_extraction_vit.py:28: FutureWarning: The class ViTFeatureExtractor is deprecated and will be removed in version 5 of Transformers. Please use ViTImageProcessor instead.\n",
      "  warnings.warn(\n"
     ]
    }
   ],
   "source": [
    "model_name = 'google/vit-base-patch16-224'\n",
    "#model_name = 'microsoft/resnet-50'\n",
    "#model_name = 'nvidia/mit-b0'\n",
    "#model_name = \"facebook/convnext-xlarge-384-22k-1k\"\n",
    "#model_name = \"facebook/convnext-tiny-224\"\n",
    "\n",
    "extractor = AutoFeatureExtractor.from_pretrained(model_name);\n",
    "\n",
    "model = AutoModelForImageClassification.from_pretrained(model_name);\n",
    "\n",
    "for param in model.parameters():\n",
    "    param.requires_grad = False\n",
    "\n",
    "\n",
    "if model_name == 'microsoft/resnet-50':\n",
    "    model.classifier[-1] = nn.Linear(model.classifier[-1].in_features, classes)\n",
    "else:\n",
    "    model.classifier = nn.Linear(model.classifier.in_features, classes)"
   ]
  },
  {
   "cell_type": "code",
   "execution_count": 17,
   "metadata": {},
   "outputs": [
    {
     "data": {
      "text/plain": [
       "ViTForImageClassification(\n",
       "  (vit): ViTModel(\n",
       "    (embeddings): ViTEmbeddings(\n",
       "      (patch_embeddings): ViTPatchEmbeddings(\n",
       "        (projection): Conv2d(3, 768, kernel_size=(16, 16), stride=(16, 16))\n",
       "      )\n",
       "      (dropout): Dropout(p=0.0, inplace=False)\n",
       "    )\n",
       "    (encoder): ViTEncoder(\n",
       "      (layer): ModuleList(\n",
       "        (0): ViTLayer(\n",
       "          (attention): ViTAttention(\n",
       "            (attention): ViTSelfAttention(\n",
       "              (query): Linear(in_features=768, out_features=768, bias=True)\n",
       "              (key): Linear(in_features=768, out_features=768, bias=True)\n",
       "              (value): Linear(in_features=768, out_features=768, bias=True)\n",
       "              (dropout): Dropout(p=0.0, inplace=False)\n",
       "            )\n",
       "            (output): ViTSelfOutput(\n",
       "              (dense): Linear(in_features=768, out_features=768, bias=True)\n",
       "              (dropout): Dropout(p=0.0, inplace=False)\n",
       "            )\n",
       "          )\n",
       "          (intermediate): ViTIntermediate(\n",
       "            (dense): Linear(in_features=768, out_features=3072, bias=True)\n",
       "            (intermediate_act_fn): GELUActivation()\n",
       "          )\n",
       "          (output): ViTOutput(\n",
       "            (dense): Linear(in_features=3072, out_features=768, bias=True)\n",
       "            (dropout): Dropout(p=0.0, inplace=False)\n",
       "          )\n",
       "          (layernorm_before): LayerNorm((768,), eps=1e-12, elementwise_affine=True)\n",
       "          (layernorm_after): LayerNorm((768,), eps=1e-12, elementwise_affine=True)\n",
       "        )\n",
       "        (1): ViTLayer(\n",
       "          (attention): ViTAttention(\n",
       "            (attention): ViTSelfAttention(\n",
       "              (query): Linear(in_features=768, out_features=768, bias=True)\n",
       "              (key): Linear(in_features=768, out_features=768, bias=True)\n",
       "              (value): Linear(in_features=768, out_features=768, bias=True)\n",
       "              (dropout): Dropout(p=0.0, inplace=False)\n",
       "            )\n",
       "            (output): ViTSelfOutput(\n",
       "              (dense): Linear(in_features=768, out_features=768, bias=True)\n",
       "              (dropout): Dropout(p=0.0, inplace=False)\n",
       "            )\n",
       "          )\n",
       "          (intermediate): ViTIntermediate(\n",
       "            (dense): Linear(in_features=768, out_features=3072, bias=True)\n",
       "            (intermediate_act_fn): GELUActivation()\n",
       "          )\n",
       "          (output): ViTOutput(\n",
       "            (dense): Linear(in_features=3072, out_features=768, bias=True)\n",
       "            (dropout): Dropout(p=0.0, inplace=False)\n",
       "          )\n",
       "          (layernorm_before): LayerNorm((768,), eps=1e-12, elementwise_affine=True)\n",
       "          (layernorm_after): LayerNorm((768,), eps=1e-12, elementwise_affine=True)\n",
       "        )\n",
       "        (2): ViTLayer(\n",
       "          (attention): ViTAttention(\n",
       "            (attention): ViTSelfAttention(\n",
       "              (query): Linear(in_features=768, out_features=768, bias=True)\n",
       "              (key): Linear(in_features=768, out_features=768, bias=True)\n",
       "              (value): Linear(in_features=768, out_features=768, bias=True)\n",
       "              (dropout): Dropout(p=0.0, inplace=False)\n",
       "            )\n",
       "            (output): ViTSelfOutput(\n",
       "              (dense): Linear(in_features=768, out_features=768, bias=True)\n",
       "              (dropout): Dropout(p=0.0, inplace=False)\n",
       "            )\n",
       "          )\n",
       "          (intermediate): ViTIntermediate(\n",
       "            (dense): Linear(in_features=768, out_features=3072, bias=True)\n",
       "            (intermediate_act_fn): GELUActivation()\n",
       "          )\n",
       "          (output): ViTOutput(\n",
       "            (dense): Linear(in_features=3072, out_features=768, bias=True)\n",
       "            (dropout): Dropout(p=0.0, inplace=False)\n",
       "          )\n",
       "          (layernorm_before): LayerNorm((768,), eps=1e-12, elementwise_affine=True)\n",
       "          (layernorm_after): LayerNorm((768,), eps=1e-12, elementwise_affine=True)\n",
       "        )\n",
       "        (3): ViTLayer(\n",
       "          (attention): ViTAttention(\n",
       "            (attention): ViTSelfAttention(\n",
       "              (query): Linear(in_features=768, out_features=768, bias=True)\n",
       "              (key): Linear(in_features=768, out_features=768, bias=True)\n",
       "              (value): Linear(in_features=768, out_features=768, bias=True)\n",
       "              (dropout): Dropout(p=0.0, inplace=False)\n",
       "            )\n",
       "            (output): ViTSelfOutput(\n",
       "              (dense): Linear(in_features=768, out_features=768, bias=True)\n",
       "              (dropout): Dropout(p=0.0, inplace=False)\n",
       "            )\n",
       "          )\n",
       "          (intermediate): ViTIntermediate(\n",
       "            (dense): Linear(in_features=768, out_features=3072, bias=True)\n",
       "            (intermediate_act_fn): GELUActivation()\n",
       "          )\n",
       "          (output): ViTOutput(\n",
       "            (dense): Linear(in_features=3072, out_features=768, bias=True)\n",
       "            (dropout): Dropout(p=0.0, inplace=False)\n",
       "          )\n",
       "          (layernorm_before): LayerNorm((768,), eps=1e-12, elementwise_affine=True)\n",
       "          (layernorm_after): LayerNorm((768,), eps=1e-12, elementwise_affine=True)\n",
       "        )\n",
       "        (4): ViTLayer(\n",
       "          (attention): ViTAttention(\n",
       "            (attention): ViTSelfAttention(\n",
       "              (query): Linear(in_features=768, out_features=768, bias=True)\n",
       "              (key): Linear(in_features=768, out_features=768, bias=True)\n",
       "              (value): Linear(in_features=768, out_features=768, bias=True)\n",
       "              (dropout): Dropout(p=0.0, inplace=False)\n",
       "            )\n",
       "            (output): ViTSelfOutput(\n",
       "              (dense): Linear(in_features=768, out_features=768, bias=True)\n",
       "              (dropout): Dropout(p=0.0, inplace=False)\n",
       "            )\n",
       "          )\n",
       "          (intermediate): ViTIntermediate(\n",
       "            (dense): Linear(in_features=768, out_features=3072, bias=True)\n",
       "            (intermediate_act_fn): GELUActivation()\n",
       "          )\n",
       "          (output): ViTOutput(\n",
       "            (dense): Linear(in_features=3072, out_features=768, bias=True)\n",
       "            (dropout): Dropout(p=0.0, inplace=False)\n",
       "          )\n",
       "          (layernorm_before): LayerNorm((768,), eps=1e-12, elementwise_affine=True)\n",
       "          (layernorm_after): LayerNorm((768,), eps=1e-12, elementwise_affine=True)\n",
       "        )\n",
       "        (5): ViTLayer(\n",
       "          (attention): ViTAttention(\n",
       "            (attention): ViTSelfAttention(\n",
       "              (query): Linear(in_features=768, out_features=768, bias=True)\n",
       "              (key): Linear(in_features=768, out_features=768, bias=True)\n",
       "              (value): Linear(in_features=768, out_features=768, bias=True)\n",
       "              (dropout): Dropout(p=0.0, inplace=False)\n",
       "            )\n",
       "            (output): ViTSelfOutput(\n",
       "              (dense): Linear(in_features=768, out_features=768, bias=True)\n",
       "              (dropout): Dropout(p=0.0, inplace=False)\n",
       "            )\n",
       "          )\n",
       "          (intermediate): ViTIntermediate(\n",
       "            (dense): Linear(in_features=768, out_features=3072, bias=True)\n",
       "            (intermediate_act_fn): GELUActivation()\n",
       "          )\n",
       "          (output): ViTOutput(\n",
       "            (dense): Linear(in_features=3072, out_features=768, bias=True)\n",
       "            (dropout): Dropout(p=0.0, inplace=False)\n",
       "          )\n",
       "          (layernorm_before): LayerNorm((768,), eps=1e-12, elementwise_affine=True)\n",
       "          (layernorm_after): LayerNorm((768,), eps=1e-12, elementwise_affine=True)\n",
       "        )\n",
       "        (6): ViTLayer(\n",
       "          (attention): ViTAttention(\n",
       "            (attention): ViTSelfAttention(\n",
       "              (query): Linear(in_features=768, out_features=768, bias=True)\n",
       "              (key): Linear(in_features=768, out_features=768, bias=True)\n",
       "              (value): Linear(in_features=768, out_features=768, bias=True)\n",
       "              (dropout): Dropout(p=0.0, inplace=False)\n",
       "            )\n",
       "            (output): ViTSelfOutput(\n",
       "              (dense): Linear(in_features=768, out_features=768, bias=True)\n",
       "              (dropout): Dropout(p=0.0, inplace=False)\n",
       "            )\n",
       "          )\n",
       "          (intermediate): ViTIntermediate(\n",
       "            (dense): Linear(in_features=768, out_features=3072, bias=True)\n",
       "            (intermediate_act_fn): GELUActivation()\n",
       "          )\n",
       "          (output): ViTOutput(\n",
       "            (dense): Linear(in_features=3072, out_features=768, bias=True)\n",
       "            (dropout): Dropout(p=0.0, inplace=False)\n",
       "          )\n",
       "          (layernorm_before): LayerNorm((768,), eps=1e-12, elementwise_affine=True)\n",
       "          (layernorm_after): LayerNorm((768,), eps=1e-12, elementwise_affine=True)\n",
       "        )\n",
       "        (7): ViTLayer(\n",
       "          (attention): ViTAttention(\n",
       "            (attention): ViTSelfAttention(\n",
       "              (query): Linear(in_features=768, out_features=768, bias=True)\n",
       "              (key): Linear(in_features=768, out_features=768, bias=True)\n",
       "              (value): Linear(in_features=768, out_features=768, bias=True)\n",
       "              (dropout): Dropout(p=0.0, inplace=False)\n",
       "            )\n",
       "            (output): ViTSelfOutput(\n",
       "              (dense): Linear(in_features=768, out_features=768, bias=True)\n",
       "              (dropout): Dropout(p=0.0, inplace=False)\n",
       "            )\n",
       "          )\n",
       "          (intermediate): ViTIntermediate(\n",
       "            (dense): Linear(in_features=768, out_features=3072, bias=True)\n",
       "            (intermediate_act_fn): GELUActivation()\n",
       "          )\n",
       "          (output): ViTOutput(\n",
       "            (dense): Linear(in_features=3072, out_features=768, bias=True)\n",
       "            (dropout): Dropout(p=0.0, inplace=False)\n",
       "          )\n",
       "          (layernorm_before): LayerNorm((768,), eps=1e-12, elementwise_affine=True)\n",
       "          (layernorm_after): LayerNorm((768,), eps=1e-12, elementwise_affine=True)\n",
       "        )\n",
       "        (8): ViTLayer(\n",
       "          (attention): ViTAttention(\n",
       "            (attention): ViTSelfAttention(\n",
       "              (query): Linear(in_features=768, out_features=768, bias=True)\n",
       "              (key): Linear(in_features=768, out_features=768, bias=True)\n",
       "              (value): Linear(in_features=768, out_features=768, bias=True)\n",
       "              (dropout): Dropout(p=0.0, inplace=False)\n",
       "            )\n",
       "            (output): ViTSelfOutput(\n",
       "              (dense): Linear(in_features=768, out_features=768, bias=True)\n",
       "              (dropout): Dropout(p=0.0, inplace=False)\n",
       "            )\n",
       "          )\n",
       "          (intermediate): ViTIntermediate(\n",
       "            (dense): Linear(in_features=768, out_features=3072, bias=True)\n",
       "            (intermediate_act_fn): GELUActivation()\n",
       "          )\n",
       "          (output): ViTOutput(\n",
       "            (dense): Linear(in_features=3072, out_features=768, bias=True)\n",
       "            (dropout): Dropout(p=0.0, inplace=False)\n",
       "          )\n",
       "          (layernorm_before): LayerNorm((768,), eps=1e-12, elementwise_affine=True)\n",
       "          (layernorm_after): LayerNorm((768,), eps=1e-12, elementwise_affine=True)\n",
       "        )\n",
       "        (9): ViTLayer(\n",
       "          (attention): ViTAttention(\n",
       "            (attention): ViTSelfAttention(\n",
       "              (query): Linear(in_features=768, out_features=768, bias=True)\n",
       "              (key): Linear(in_features=768, out_features=768, bias=True)\n",
       "              (value): Linear(in_features=768, out_features=768, bias=True)\n",
       "              (dropout): Dropout(p=0.0, inplace=False)\n",
       "            )\n",
       "            (output): ViTSelfOutput(\n",
       "              (dense): Linear(in_features=768, out_features=768, bias=True)\n",
       "              (dropout): Dropout(p=0.0, inplace=False)\n",
       "            )\n",
       "          )\n",
       "          (intermediate): ViTIntermediate(\n",
       "            (dense): Linear(in_features=768, out_features=3072, bias=True)\n",
       "            (intermediate_act_fn): GELUActivation()\n",
       "          )\n",
       "          (output): ViTOutput(\n",
       "            (dense): Linear(in_features=3072, out_features=768, bias=True)\n",
       "            (dropout): Dropout(p=0.0, inplace=False)\n",
       "          )\n",
       "          (layernorm_before): LayerNorm((768,), eps=1e-12, elementwise_affine=True)\n",
       "          (layernorm_after): LayerNorm((768,), eps=1e-12, elementwise_affine=True)\n",
       "        )\n",
       "        (10): ViTLayer(\n",
       "          (attention): ViTAttention(\n",
       "            (attention): ViTSelfAttention(\n",
       "              (query): Linear(in_features=768, out_features=768, bias=True)\n",
       "              (key): Linear(in_features=768, out_features=768, bias=True)\n",
       "              (value): Linear(in_features=768, out_features=768, bias=True)\n",
       "              (dropout): Dropout(p=0.0, inplace=False)\n",
       "            )\n",
       "            (output): ViTSelfOutput(\n",
       "              (dense): Linear(in_features=768, out_features=768, bias=True)\n",
       "              (dropout): Dropout(p=0.0, inplace=False)\n",
       "            )\n",
       "          )\n",
       "          (intermediate): ViTIntermediate(\n",
       "            (dense): Linear(in_features=768, out_features=3072, bias=True)\n",
       "            (intermediate_act_fn): GELUActivation()\n",
       "          )\n",
       "          (output): ViTOutput(\n",
       "            (dense): Linear(in_features=3072, out_features=768, bias=True)\n",
       "            (dropout): Dropout(p=0.0, inplace=False)\n",
       "          )\n",
       "          (layernorm_before): LayerNorm((768,), eps=1e-12, elementwise_affine=True)\n",
       "          (layernorm_after): LayerNorm((768,), eps=1e-12, elementwise_affine=True)\n",
       "        )\n",
       "        (11): ViTLayer(\n",
       "          (attention): ViTAttention(\n",
       "            (attention): ViTSelfAttention(\n",
       "              (query): Linear(in_features=768, out_features=768, bias=True)\n",
       "              (key): Linear(in_features=768, out_features=768, bias=True)\n",
       "              (value): Linear(in_features=768, out_features=768, bias=True)\n",
       "              (dropout): Dropout(p=0.0, inplace=False)\n",
       "            )\n",
       "            (output): ViTSelfOutput(\n",
       "              (dense): Linear(in_features=768, out_features=768, bias=True)\n",
       "              (dropout): Dropout(p=0.0, inplace=False)\n",
       "            )\n",
       "          )\n",
       "          (intermediate): ViTIntermediate(\n",
       "            (dense): Linear(in_features=768, out_features=3072, bias=True)\n",
       "            (intermediate_act_fn): GELUActivation()\n",
       "          )\n",
       "          (output): ViTOutput(\n",
       "            (dense): Linear(in_features=3072, out_features=768, bias=True)\n",
       "            (dropout): Dropout(p=0.0, inplace=False)\n",
       "          )\n",
       "          (layernorm_before): LayerNorm((768,), eps=1e-12, elementwise_affine=True)\n",
       "          (layernorm_after): LayerNorm((768,), eps=1e-12, elementwise_affine=True)\n",
       "        )\n",
       "      )\n",
       "    )\n",
       "    (layernorm): LayerNorm((768,), eps=1e-12, elementwise_affine=True)\n",
       "  )\n",
       "  (classifier): Linear(in_features=768, out_features=4, bias=True)\n",
       ")"
      ]
     },
     "execution_count": 17,
     "metadata": {},
     "output_type": "execute_result"
    }
   ],
   "source": [
    "model"
   ]
  },
  {
   "cell_type": "code",
   "execution_count": 18,
   "metadata": {},
   "outputs": [
    {
     "data": {
      "text/plain": [
       "ViTFeatureExtractor {\n",
       "  \"do_normalize\": true,\n",
       "  \"do_rescale\": true,\n",
       "  \"do_resize\": true,\n",
       "  \"image_mean\": [\n",
       "    0.5,\n",
       "    0.5,\n",
       "    0.5\n",
       "  ],\n",
       "  \"image_processor_type\": \"ViTFeatureExtractor\",\n",
       "  \"image_std\": [\n",
       "    0.5,\n",
       "    0.5,\n",
       "    0.5\n",
       "  ],\n",
       "  \"resample\": 2,\n",
       "  \"rescale_factor\": 0.00392156862745098,\n",
       "  \"size\": {\n",
       "    \"height\": 224,\n",
       "    \"width\": 224\n",
       "  }\n",
       "}"
      ]
     },
     "execution_count": 18,
     "metadata": {},
     "output_type": "execute_result"
    }
   ],
   "source": [
    "extractor"
   ]
  },
  {
   "cell_type": "code",
   "execution_count": 19,
   "metadata": {},
   "outputs": [],
   "source": [
    "mean = extractor.image_mean\n",
    "std = extractor.image_std\n",
    "if model_name == \"microsoft/resnet-50\" or model_name == \"facebook/convnext-tiny-224\":\n",
    "    input_size = (extractor.size['shortest_edge'], extractor.size['shortest_edge'])\n",
    "else:\n",
    "    input_size = (extractor.size['height'], extractor.size['width'])"
   ]
  },
  {
   "cell_type": "code",
   "execution_count": 20,
   "metadata": {},
   "outputs": [],
   "source": [
    "train_transform = transforms.Compose([transforms.Resize(input_size),\n",
    "                                     transforms.RandomHorizontalFlip(),\n",
    "                                     transforms.RandomVerticalFlip(),\n",
    "                                     transforms.RandomRotation(20),\n",
    "                                     transforms.ColorJitter(brightness=0.1, contrast=0.1, hue=0.1),\n",
    "                                     transforms.ToTensor(),\n",
    "                                     transforms.Normalize(mean, std)])\n",
    "val_transform = transforms.Compose([transforms.Resize(input_size),\n",
    "                                   transforms.ToTensor(),\n",
    "                                   transforms.Normalize(mean,std)])"
   ]
  },
  {
   "cell_type": "code",
   "execution_count": 21,
   "metadata": {},
   "outputs": [],
   "source": [
    "train_ds = HAM10000(df_train, transform=train_transform)\n",
    "val_ds = HAM10000(df_val, transform=val_transform)\n",
    "\n",
    "batch_size = 32\n",
    "epochs = 20\n",
    "lr = 1e-3\n",
    "\n",
    "train_loader = DataLoader(train_ds, batch_size=batch_size, shuffle=True)\n",
    "val_loader = DataLoader(val_ds, batch_size=batch_size,shuffle=False)"
   ]
  },
  {
   "cell_type": "code",
   "execution_count": 22,
   "metadata": {},
   "outputs": [],
   "source": [
    "# #model = models.densenet121(weights='DenseNet121_Weights.IMAGENET1K_V1');\n",
    "\n",
    "# model = models.EfficientNet_B4_Weights(weights='EfficientNet_B4_Weights.IMAGENET1K_V1')\n",
    "\n",
    "# # Freezing layers\n",
    "# for param in model.parameters():\n",
    "#     param.requires_grad = False\n",
    "\n",
    "# model.classifier = nn.Linear(model.classifier.in_features, classes)"
   ]
  },
  {
   "cell_type": "code",
   "execution_count": 23,
   "metadata": {},
   "outputs": [],
   "source": [
    "class FocalLoss(nn.Module):\n",
    "    def __init__(self, alpha=None, gamma=2, reduction='mean'):\n",
    "        super(FocalLoss, self).__init__()\n",
    "        self.alpha = alpha\n",
    "        self.gamma = gamma\n",
    "        self.reduction = reduction\n",
    "\n",
    "    def forward(self, inputs, targets):\n",
    "        ce_loss = F.cross_entropy(inputs, targets, reduction='none')\n",
    "        pt = torch.exp(-ce_loss)\n",
    "        focal_loss = self.alpha[targets] * (1-pt)**self.gamma * ce_loss\n",
    "        if self.reduction == 'mean':\n",
    "            return torch.mean(focal_loss)\n",
    "        elif self.reduction == 'sum':\n",
    "            return torch.sum(focal_loss)\n",
    "        else:\n",
    "            return focal_loss"
   ]
  },
  {
   "cell_type": "code",
   "execution_count": 24,
   "metadata": {},
   "outputs": [],
   "source": [
    "model.to(device);"
   ]
  },
  {
   "cell_type": "code",
   "execution_count": 25,
   "metadata": {},
   "outputs": [
    {
     "name": "stdout",
     "output_type": "stream",
     "text": [
      "|===========================================================================|\n",
      "|                  PyTorch CUDA memory summary, device ID 0                 |\n",
      "|---------------------------------------------------------------------------|\n",
      "|            CUDA OOMs: 0            |        cudaMalloc retries: 0         |\n",
      "|===========================================================================|\n",
      "|        Metric         | Cur Usage  | Peak Usage | Tot Alloc  | Tot Freed  |\n",
      "|---------------------------------------------------------------------------|\n",
      "| Allocated memory      |  335163 KB |  335163 KB |  335163 KB |       0 B  |\n",
      "|       from large pool |  334080 KB |  334080 KB |  334080 KB |       0 B  |\n",
      "|       from small pool |    1083 KB |    1083 KB |    1083 KB |       0 B  |\n",
      "|---------------------------------------------------------------------------|\n",
      "| Active memory         |  335163 KB |  335163 KB |  335163 KB |       0 B  |\n",
      "|       from large pool |  334080 KB |  334080 KB |  334080 KB |       0 B  |\n",
      "|       from small pool |    1083 KB |    1083 KB |    1083 KB |       0 B  |\n",
      "|---------------------------------------------------------------------------|\n",
      "| GPU reserved memory   |  391168 KB |  391168 KB |  391168 KB |       0 B  |\n",
      "|       from large pool |  389120 KB |  389120 KB |  389120 KB |       0 B  |\n",
      "|       from small pool |    2048 KB |    2048 KB |    2048 KB |       0 B  |\n",
      "|---------------------------------------------------------------------------|\n",
      "| Non-releasable memory |   56004 KB |   56038 KB |  264445 KB |  208440 KB |\n",
      "|       from large pool |   55040 KB |   55040 KB |  262400 KB |  207360 KB |\n",
      "|       from small pool |     964 KB |    2045 KB |    2045 KB |    1080 KB |\n",
      "|---------------------------------------------------------------------------|\n",
      "| Allocations           |     200    |     200    |     200    |       0    |\n",
      "|       from large pool |      73    |      73    |      73    |       0    |\n",
      "|       from small pool |     127    |     127    |     127    |       0    |\n",
      "|---------------------------------------------------------------------------|\n",
      "| Active allocs         |     200    |     200    |     200    |       0    |\n",
      "|       from large pool |      73    |      73    |      73    |       0    |\n",
      "|       from small pool |     127    |     127    |     127    |       0    |\n",
      "|---------------------------------------------------------------------------|\n",
      "| GPU reserved segments |      20    |      20    |      20    |       0    |\n",
      "|       from large pool |      19    |      19    |      19    |       0    |\n",
      "|       from small pool |       1    |       1    |       1    |       0    |\n",
      "|---------------------------------------------------------------------------|\n",
      "| Non-releasable allocs |      20    |      20    |      20    |       0    |\n",
      "|       from large pool |      19    |      19    |      19    |       0    |\n",
      "|       from small pool |       1    |       1    |       1    |       0    |\n",
      "|---------------------------------------------------------------------------|\n",
      "| Oversize allocations  |       0    |       0    |       0    |       0    |\n",
      "|---------------------------------------------------------------------------|\n",
      "| Oversize GPU segments |       0    |       0    |       0    |       0    |\n",
      "|===========================================================================|\n",
      "\n"
     ]
    }
   ],
   "source": [
    "print(torch.cuda.memory_summary(device=None, abbreviated=False))"
   ]
  },
  {
   "cell_type": "code",
   "execution_count": 26,
   "metadata": {},
   "outputs": [],
   "source": [
    "# Compute class weights for alpha\n",
    "#class_weights = compute_class_weight('balanced', classes=[0, 1, 2, 3, 4], y=df_train['cell_type_idx'].values)\n",
    "class_weights = np.array([3, 2, 1, 0.5, 1])\n",
    "alpha = torch.tensor(class_weights, dtype=torch.float32).to(device)"
   ]
  },
  {
   "cell_type": "code",
   "execution_count": null,
   "metadata": {},
   "outputs": [],
   "source": []
  },
  {
   "cell_type": "code",
   "execution_count": 27,
   "metadata": {},
   "outputs": [],
   "source": [
    "optimizer = torch.optim.Adam(model.parameters(), lr=lr)\n",
    "criterion = nn.CrossEntropyLoss().to(device)\n",
    "\n",
    "gamma = 2\n",
    "\n",
    "# Define loss function\n",
    "# criterion = FocalLoss(alpha=alpha, gamma=gamma).to(device)"
   ]
  },
  {
   "attachments": {},
   "cell_type": "markdown",
   "metadata": {},
   "source": [
    "#### Training "
   ]
  },
  {
   "cell_type": "code",
   "execution_count": 28,
   "metadata": {},
   "outputs": [],
   "source": [
    "class AverageMeter(object):\n",
    "    def __init__(self):\n",
    "        self.reset()\n",
    "\n",
    "    def reset(self):\n",
    "        self.val = 0\n",
    "        self.avg = 0\n",
    "        self.sum = 0\n",
    "        self.count = 0\n",
    "        \n",
    "    def update(self, val, n=1):\n",
    "        self.val = val\n",
    "        self.sum += val*n\n",
    "        self.count += n\n",
    "        self.avg = self.sum/self.count"
   ]
  },
  {
   "cell_type": "code",
   "execution_count": 29,
   "metadata": {},
   "outputs": [],
   "source": [
    "# tloss_train , tacc_train =[],[]\n",
    "# def train(train_loader, model, criterion, optimizer, epoch):\n",
    "#     model.train()\n",
    "#     train_loss = AverageMeter()\n",
    "#     train_acc = AverageMeter()\n",
    "#     curr_iter = (epoch-1)*len(train_loader)\n",
    "    \n",
    "#     for i,data in tqdm(enumerate(train_loader)):\n",
    "#         images, labels = data\n",
    "#         n = images.size(0)\n",
    "        \n",
    "#         images = Variable(images).to(device)\n",
    "#         labels = Variable(labels).to(device)\n",
    "     \n",
    "#         optimizer.zero_grad()\n",
    "#         outputs = model(images)\n",
    "        \n",
    "#         loss = criterion(outputs, labels)\n",
    "#         loss.backward()\n",
    "#         optimizer.step()\n",
    "        \n",
    "#         pred = torch.argmax(outputs,dim=1)\n",
    "#         train_acc.update(pred.eq(labels).sum().item()/n)\n",
    "#         train_loss.update(loss.item())\n",
    "#         curr_iter += 1\n",
    "#         if (i+1)%100 == 0:\n",
    "#             print(f'epoch {epoch} [iter {i+1}/{len(train_loader)}] [train loss {train_loss.avg:.5f}] [train acc {train_acc.avg:.5f}]')\n",
    "#             tloss_train.append(train_loss.avg)\n",
    "#             tacc_train.append(train_acc.avg)\n",
    "        \n",
    "#     return train_loss.avg, train_acc.avg"
   ]
  },
  {
   "cell_type": "code",
   "execution_count": 30,
   "metadata": {},
   "outputs": [],
   "source": [
    "# def validate(val_loader, model, criterion, optimizer, epoch):\n",
    "#     model.eval()\n",
    "#     val_loss = AverageMeter()\n",
    "#     val_acc = AverageMeter()\n",
    "#     with torch.no_grad():\n",
    "#         for i, data in enumerate(val_loader):\n",
    "#             images, labels = data\n",
    "#             n = images.size(0)\n",
    "#             images = Variable(images).to(device)\n",
    "#             labels = Variable(labels).to(device)\n",
    "            \n",
    "#             output = model(images)\n",
    "#             pred = torch.argmax(output, dim=1)\n",
    "            \n",
    "#             val_acc.update(pred.eq(labels).sum().item()/n)\n",
    "#             val_loss.update(criterion(output, labels).item())\n",
    "            \n",
    "#         print('-----------------------------------------')\n",
    "#         print(f'[epoch {epoch}] [iter{i/len(val_loader)}] [val loss {val_loss.avg:.5f}] [val_acc {val_acc.avg:.5f}]')\n",
    "#         print('-----------------------------------------')\n",
    "            \n",
    "#         return val_loss.avg, val_acc.avg"
   ]
  },
  {
   "cell_type": "code",
   "execution_count": 31,
   "metadata": {},
   "outputs": [],
   "source": [
    "# best_val_acc = 0\n",
    "# tloss_val, tacc_val = [],[]\n",
    "\n",
    "# for epoch in range(epochs):\n",
    "#     loss_train, acc_train = train(train_loader, model, criterion, optimizer, epoch)\n",
    "#     loss_val, acc_val = validate(val_loader, model, criterion, optimizer, epoch)\n",
    "#     tloss_val.append(loss_val)\n",
    "#     tacc_val.append(acc_val)\n",
    "    \n",
    "#     if acc_val > best_val_acc:\n",
    "#         best_val_acc = acc_val\n",
    "#         print('******************')\n",
    "#         print(f'best [epoch{epoch}] [loss {loss_val:.5f}] [acc {acc_val:.5f}]')\n",
    "#         print('******************')"
   ]
  },
  {
   "cell_type": "code",
   "execution_count": 32,
   "metadata": {},
   "outputs": [],
   "source": [
    "def train(model, train_loader, val_loader, optimizer, criterion, num_epochs):\n",
    "    for epoch in range(num_epochs):\n",
    "        # Initialize metrics\n",
    "        train_loss = 0.0\n",
    "        train_acc = 0.0\n",
    "        val_loss = 0.0\n",
    "        val_acc = 0.0\n",
    "        num_train_batches = len(train_loader)\n",
    "        num_val_batches = len(val_loader)\n",
    "\n",
    "        # Training loop\n",
    "        model.train()\n",
    "        for i, (inputs, labels) in tqdm(enumerate(train_loader), total=num_train_batches, desc=f'Epoch {epoch + 1}/{num_epochs} - Training'):\n",
    "            inputs = Variable(inputs).to(device)\n",
    "            labels = Variable(labels).to(device)\n",
    "            \n",
    "            optimizer.zero_grad()\n",
    "            out = model(inputs)\n",
    "            outputs = out.logits\n",
    "\n",
    "            loss = criterion(outputs, labels)\n",
    "            loss.backward()\n",
    "            optimizer.step()\n",
    "\n",
    "            # Update metrics\n",
    "            train_loss += loss.item()\n",
    "            _, predicted = torch.max(outputs.data, 1)\n",
    "            train_acc += (predicted == labels).sum().item()\n",
    "\n",
    "        # Validation loop\n",
    "        model.eval()\n",
    "        with torch.no_grad():\n",
    "            for i, (inputs, labels) in tqdm(enumerate(val_loader), total=num_val_batches, desc=f'Epoch {epoch + 1}/{num_epochs} - Validation'):\n",
    "                inputs = Variable(inputs).to(device)\n",
    "                labels = Variable(labels).to(device)\n",
    "                \n",
    "                out = model(inputs)\n",
    "                outputs = out.logits\n",
    "                loss = criterion(outputs, labels)\n",
    "\n",
    "                # Update metrics\n",
    "                val_loss += loss.item()\n",
    "                _, predicted = torch.max(outputs.data, 1)\n",
    "                val_acc += (predicted == labels).sum().item()\n",
    "\n",
    "        # Calculate metrics\n",
    "        train_loss /= num_train_batches\n",
    "        train_acc /= len(train_loader.dataset)\n",
    "        val_loss /= num_val_batches\n",
    "        val_acc /= len(val_loader.dataset)\n",
    "\n",
    "        # Print metrics and progress bar\n",
    "        tqdm.write(f'Epoch {epoch + 1}/{num_epochs} - Training accuracy: {train_acc:.4f} - Training loss: {train_loss:.4f} - Validation accuracy: {val_acc:.4f} - Validation loss: {val_loss:.4f}')"
   ]
  },
  {
   "cell_type": "code",
   "execution_count": null,
   "metadata": {},
   "outputs": [],
   "source": []
  },
  {
   "cell_type": "code",
   "execution_count": null,
   "metadata": {},
   "outputs": [],
   "source": []
  },
  {
   "cell_type": "code",
   "execution_count": null,
   "metadata": {},
   "outputs": [],
   "source": []
  },
  {
   "cell_type": "code",
   "execution_count": 33,
   "metadata": {},
   "outputs": [
    {
     "name": "stderr",
     "output_type": "stream",
     "text": [
      "Epoch 1/20 - Training: 100%|██████████| 236/236 [01:06<00:00,  3.52it/s]\n",
      "Epoch 1/20 - Validation: 100%|██████████| 59/59 [00:12<00:00,  4.71it/s]\n"
     ]
    },
    {
     "name": "stdout",
     "output_type": "stream",
     "text": [
      "Epoch 1/20 - Training accuracy: 0.7648 - Training loss: 0.6149 - Validation accuracy: 0.7790 - Validation loss: 0.5784\n"
     ]
    },
    {
     "name": "stderr",
     "output_type": "stream",
     "text": [
      "Epoch 2/20 - Training: 100%|██████████| 236/236 [01:04<00:00,  3.67it/s]\n",
      "Epoch 2/20 - Validation: 100%|██████████| 59/59 [00:12<00:00,  4.74it/s]\n"
     ]
    },
    {
     "name": "stdout",
     "output_type": "stream",
     "text": [
      "Epoch 2/20 - Training accuracy: 0.8021 - Training loss: 0.5093 - Validation accuracy: 0.7933 - Validation loss: 0.5388\n"
     ]
    },
    {
     "name": "stderr",
     "output_type": "stream",
     "text": [
      "Epoch 3/20 - Training: 100%|██████████| 236/236 [01:04<00:00,  3.66it/s]\n",
      "Epoch 3/20 - Validation: 100%|██████████| 59/59 [00:12<00:00,  4.72it/s]\n"
     ]
    },
    {
     "name": "stdout",
     "output_type": "stream",
     "text": [
      "Epoch 3/20 - Training accuracy: 0.8167 - Training loss: 0.4790 - Validation accuracy: 0.7970 - Validation loss: 0.5204\n"
     ]
    },
    {
     "name": "stderr",
     "output_type": "stream",
     "text": [
      "Epoch 4/20 - Training: 100%|██████████| 236/236 [01:04<00:00,  3.64it/s]\n",
      "Epoch 4/20 - Validation: 100%|██████████| 59/59 [00:12<00:00,  4.68it/s]\n"
     ]
    },
    {
     "name": "stdout",
     "output_type": "stream",
     "text": [
      "Epoch 4/20 - Training accuracy: 0.8201 - Training loss: 0.4663 - Validation accuracy: 0.8039 - Validation loss: 0.4997\n"
     ]
    },
    {
     "name": "stderr",
     "output_type": "stream",
     "text": [
      "Epoch 5/20 - Training: 100%|██████████| 236/236 [01:05<00:00,  3.59it/s]\n",
      "Epoch 5/20 - Validation: 100%|██████████| 59/59 [00:12<00:00,  4.67it/s]\n"
     ]
    },
    {
     "name": "stdout",
     "output_type": "stream",
     "text": [
      "Epoch 5/20 - Training accuracy: 0.8271 - Training loss: 0.4478 - Validation accuracy: 0.8151 - Validation loss: 0.4851\n"
     ]
    },
    {
     "name": "stderr",
     "output_type": "stream",
     "text": [
      "Epoch 6/20 - Training: 100%|██████████| 236/236 [01:05<00:00,  3.58it/s]\n",
      "Epoch 6/20 - Validation: 100%|██████████| 59/59 [00:12<00:00,  4.64it/s]\n"
     ]
    },
    {
     "name": "stdout",
     "output_type": "stream",
     "text": [
      "Epoch 6/20 - Training accuracy: 0.8274 - Training loss: 0.4430 - Validation accuracy: 0.8283 - Validation loss: 0.4749\n"
     ]
    },
    {
     "name": "stderr",
     "output_type": "stream",
     "text": [
      "Epoch 7/20 - Training: 100%|██████████| 236/236 [01:06<00:00,  3.54it/s]\n",
      "Epoch 7/20 - Validation: 100%|██████████| 59/59 [00:12<00:00,  4.56it/s]\n"
     ]
    },
    {
     "name": "stdout",
     "output_type": "stream",
     "text": [
      "Epoch 7/20 - Training accuracy: 0.8322 - Training loss: 0.4360 - Validation accuracy: 0.8230 - Validation loss: 0.4709\n"
     ]
    },
    {
     "name": "stderr",
     "output_type": "stream",
     "text": [
      "Epoch 8/20 - Training: 100%|██████████| 236/236 [01:07<00:00,  3.50it/s]\n",
      "Epoch 8/20 - Validation: 100%|██████████| 59/59 [00:12<00:00,  4.55it/s]\n"
     ]
    },
    {
     "name": "stdout",
     "output_type": "stream",
     "text": [
      "Epoch 8/20 - Training accuracy: 0.8344 - Training loss: 0.4260 - Validation accuracy: 0.8193 - Validation loss: 0.4811\n"
     ]
    },
    {
     "name": "stderr",
     "output_type": "stream",
     "text": [
      "Epoch 9/20 - Training: 100%|██████████| 236/236 [01:07<00:00,  3.50it/s]\n",
      "Epoch 9/20 - Validation: 100%|██████████| 59/59 [00:13<00:00,  4.53it/s]\n"
     ]
    },
    {
     "name": "stdout",
     "output_type": "stream",
     "text": [
      "Epoch 9/20 - Training accuracy: 0.8385 - Training loss: 0.4187 - Validation accuracy: 0.8193 - Validation loss: 0.4774\n"
     ]
    },
    {
     "name": "stderr",
     "output_type": "stream",
     "text": [
      "Epoch 10/20 - Training: 100%|██████████| 236/236 [01:07<00:00,  3.48it/s]\n",
      "Epoch 10/20 - Validation: 100%|██████████| 59/59 [00:13<00:00,  4.51it/s]\n"
     ]
    },
    {
     "name": "stdout",
     "output_type": "stream",
     "text": [
      "Epoch 10/20 - Training accuracy: 0.8400 - Training loss: 0.4231 - Validation accuracy: 0.8151 - Validation loss: 0.4845\n"
     ]
    },
    {
     "name": "stderr",
     "output_type": "stream",
     "text": [
      "Epoch 11/20 - Training: 100%|██████████| 236/236 [01:08<00:00,  3.46it/s]\n",
      "Epoch 11/20 - Validation: 100%|██████████| 59/59 [00:13<00:00,  4.50it/s]\n"
     ]
    },
    {
     "name": "stdout",
     "output_type": "stream",
     "text": [
      "Epoch 11/20 - Training accuracy: 0.8387 - Training loss: 0.4213 - Validation accuracy: 0.8145 - Validation loss: 0.4778\n"
     ]
    },
    {
     "name": "stderr",
     "output_type": "stream",
     "text": [
      "Epoch 12/20 - Training: 100%|██████████| 236/236 [01:08<00:00,  3.45it/s]\n",
      "Epoch 12/20 - Validation: 100%|██████████| 59/59 [00:13<00:00,  4.49it/s]\n"
     ]
    },
    {
     "name": "stdout",
     "output_type": "stream",
     "text": [
      "Epoch 12/20 - Training accuracy: 0.8436 - Training loss: 0.4133 - Validation accuracy: 0.8241 - Validation loss: 0.4653\n"
     ]
    },
    {
     "name": "stderr",
     "output_type": "stream",
     "text": [
      "Epoch 13/20 - Training: 100%|██████████| 236/236 [01:08<00:00,  3.44it/s]\n",
      "Epoch 13/20 - Validation: 100%|██████████| 59/59 [00:13<00:00,  4.49it/s]\n"
     ]
    },
    {
     "name": "stdout",
     "output_type": "stream",
     "text": [
      "Epoch 13/20 - Training accuracy: 0.8409 - Training loss: 0.4067 - Validation accuracy: 0.8267 - Validation loss: 0.4669\n"
     ]
    },
    {
     "name": "stderr",
     "output_type": "stream",
     "text": [
      "Epoch 14/20 - Training: 100%|██████████| 236/236 [01:06<00:00,  3.55it/s]\n",
      "Epoch 14/20 - Validation: 100%|██████████| 59/59 [00:12<00:00,  4.58it/s]\n"
     ]
    },
    {
     "name": "stdout",
     "output_type": "stream",
     "text": [
      "Epoch 14/20 - Training accuracy: 0.8484 - Training loss: 0.3966 - Validation accuracy: 0.8145 - Validation loss: 0.4813\n"
     ]
    },
    {
     "name": "stderr",
     "output_type": "stream",
     "text": [
      "Epoch 15/20 - Training: 100%|██████████| 236/236 [01:08<00:00,  3.43it/s]\n",
      "Epoch 15/20 - Validation: 100%|██████████| 59/59 [00:13<00:00,  4.45it/s]\n"
     ]
    },
    {
     "name": "stdout",
     "output_type": "stream",
     "text": [
      "Epoch 15/20 - Training accuracy: 0.8452 - Training loss: 0.4073 - Validation accuracy: 0.8230 - Validation loss: 0.4678\n"
     ]
    },
    {
     "name": "stderr",
     "output_type": "stream",
     "text": [
      "Epoch 16/20 - Training: 100%|██████████| 236/236 [01:09<00:00,  3.42it/s]\n",
      "Epoch 16/20 - Validation: 100%|██████████| 59/59 [00:13<00:00,  4.44it/s]\n"
     ]
    },
    {
     "name": "stdout",
     "output_type": "stream",
     "text": [
      "Epoch 16/20 - Training accuracy: 0.8502 - Training loss: 0.4006 - Validation accuracy: 0.8203 - Validation loss: 0.4595\n"
     ]
    },
    {
     "name": "stderr",
     "output_type": "stream",
     "text": [
      "Epoch 17/20 - Training: 100%|██████████| 236/236 [01:09<00:00,  3.41it/s]\n",
      "Epoch 17/20 - Validation: 100%|██████████| 59/59 [00:13<00:00,  4.46it/s]\n"
     ]
    },
    {
     "name": "stdout",
     "output_type": "stream",
     "text": [
      "Epoch 17/20 - Training accuracy: 0.8497 - Training loss: 0.3930 - Validation accuracy: 0.8272 - Validation loss: 0.4671\n"
     ]
    },
    {
     "name": "stderr",
     "output_type": "stream",
     "text": [
      "Epoch 18/20 - Training: 100%|██████████| 236/236 [01:09<00:00,  3.41it/s]\n",
      "Epoch 18/20 - Validation: 100%|██████████| 59/59 [00:13<00:00,  4.45it/s]\n"
     ]
    },
    {
     "name": "stdout",
     "output_type": "stream",
     "text": [
      "Epoch 18/20 - Training accuracy: 0.8421 - Training loss: 0.4037 - Validation accuracy: 0.7944 - Validation loss: 0.5188\n"
     ]
    },
    {
     "name": "stderr",
     "output_type": "stream",
     "text": [
      "Epoch 19/20 - Training: 100%|██████████| 236/236 [01:09<00:00,  3.39it/s]\n",
      "Epoch 19/20 - Validation: 100%|██████████| 59/59 [00:13<00:00,  4.39it/s]\n"
     ]
    },
    {
     "name": "stdout",
     "output_type": "stream",
     "text": [
      "Epoch 19/20 - Training accuracy: 0.8448 - Training loss: 0.4048 - Validation accuracy: 0.8214 - Validation loss: 0.4922\n"
     ]
    },
    {
     "name": "stderr",
     "output_type": "stream",
     "text": [
      "Epoch 20/20 - Training: 100%|██████████| 236/236 [01:09<00:00,  3.38it/s]\n",
      "Epoch 20/20 - Validation: 100%|██████████| 59/59 [00:13<00:00,  4.44it/s]\n"
     ]
    },
    {
     "name": "stdout",
     "output_type": "stream",
     "text": [
      "Epoch 20/20 - Training accuracy: 0.8526 - Training loss: 0.4001 - Validation accuracy: 0.8251 - Validation loss: 0.4716\n"
     ]
    }
   ],
   "source": [
    "file_path = os.path.join('checkpoints',f\"{model_name.replace('/','-')}.pth\") \n",
    "if os.path.isfile(file_path):\n",
    "    model = model.load_state_dict(torch.load(file_path))\n",
    "else:\n",
    "    train(model, train_loader, val_loader, optimizer, criterion, epochs)\n",
    "    torch.save(model.state_dict(), file_path)"
   ]
  },
  {
   "cell_type": "code",
   "execution_count": 34,
   "metadata": {},
   "outputs": [
    {
     "name": "stdout",
     "output_type": "stream",
     "text": [
      "\n",
      "vit\n",
      "vit.embeddings\n",
      "vit.embeddings.patch_embeddings\n",
      "vit.embeddings.patch_embeddings.projection\n",
      "vit.embeddings.dropout\n",
      "vit.encoder\n",
      "vit.encoder.layer\n",
      "vit.encoder.layer.0\n",
      "vit.encoder.layer.0.attention\n",
      "vit.encoder.layer.0.attention.attention\n",
      "vit.encoder.layer.0.attention.attention.query\n",
      "vit.encoder.layer.0.attention.attention.key\n",
      "vit.encoder.layer.0.attention.attention.value\n",
      "vit.encoder.layer.0.attention.attention.dropout\n",
      "vit.encoder.layer.0.attention.output\n",
      "vit.encoder.layer.0.attention.output.dense\n",
      "vit.encoder.layer.0.attention.output.dropout\n",
      "vit.encoder.layer.0.intermediate\n",
      "vit.encoder.layer.0.intermediate.dense\n",
      "vit.encoder.layer.0.intermediate.intermediate_act_fn\n",
      "vit.encoder.layer.0.output\n",
      "vit.encoder.layer.0.output.dense\n",
      "vit.encoder.layer.0.output.dropout\n",
      "vit.encoder.layer.0.layernorm_before\n",
      "vit.encoder.layer.0.layernorm_after\n",
      "vit.encoder.layer.1\n",
      "vit.encoder.layer.1.attention\n",
      "vit.encoder.layer.1.attention.attention\n",
      "vit.encoder.layer.1.attention.attention.query\n",
      "vit.encoder.layer.1.attention.attention.key\n",
      "vit.encoder.layer.1.attention.attention.value\n",
      "vit.encoder.layer.1.attention.attention.dropout\n",
      "vit.encoder.layer.1.attention.output\n",
      "vit.encoder.layer.1.attention.output.dense\n",
      "vit.encoder.layer.1.attention.output.dropout\n",
      "vit.encoder.layer.1.intermediate\n",
      "vit.encoder.layer.1.intermediate.dense\n",
      "vit.encoder.layer.1.intermediate.intermediate_act_fn\n",
      "vit.encoder.layer.1.output\n",
      "vit.encoder.layer.1.output.dense\n",
      "vit.encoder.layer.1.output.dropout\n",
      "vit.encoder.layer.1.layernorm_before\n",
      "vit.encoder.layer.1.layernorm_after\n",
      "vit.encoder.layer.2\n",
      "vit.encoder.layer.2.attention\n",
      "vit.encoder.layer.2.attention.attention\n",
      "vit.encoder.layer.2.attention.attention.query\n",
      "vit.encoder.layer.2.attention.attention.key\n",
      "vit.encoder.layer.2.attention.attention.value\n",
      "vit.encoder.layer.2.attention.attention.dropout\n",
      "vit.encoder.layer.2.attention.output\n",
      "vit.encoder.layer.2.attention.output.dense\n",
      "vit.encoder.layer.2.attention.output.dropout\n",
      "vit.encoder.layer.2.intermediate\n",
      "vit.encoder.layer.2.intermediate.dense\n",
      "vit.encoder.layer.2.intermediate.intermediate_act_fn\n",
      "vit.encoder.layer.2.output\n",
      "vit.encoder.layer.2.output.dense\n",
      "vit.encoder.layer.2.output.dropout\n",
      "vit.encoder.layer.2.layernorm_before\n",
      "vit.encoder.layer.2.layernorm_after\n",
      "vit.encoder.layer.3\n",
      "vit.encoder.layer.3.attention\n",
      "vit.encoder.layer.3.attention.attention\n",
      "vit.encoder.layer.3.attention.attention.query\n",
      "vit.encoder.layer.3.attention.attention.key\n",
      "vit.encoder.layer.3.attention.attention.value\n",
      "vit.encoder.layer.3.attention.attention.dropout\n",
      "vit.encoder.layer.3.attention.output\n",
      "vit.encoder.layer.3.attention.output.dense\n",
      "vit.encoder.layer.3.attention.output.dropout\n",
      "vit.encoder.layer.3.intermediate\n",
      "vit.encoder.layer.3.intermediate.dense\n",
      "vit.encoder.layer.3.intermediate.intermediate_act_fn\n",
      "vit.encoder.layer.3.output\n",
      "vit.encoder.layer.3.output.dense\n",
      "vit.encoder.layer.3.output.dropout\n",
      "vit.encoder.layer.3.layernorm_before\n",
      "vit.encoder.layer.3.layernorm_after\n",
      "vit.encoder.layer.4\n",
      "vit.encoder.layer.4.attention\n",
      "vit.encoder.layer.4.attention.attention\n",
      "vit.encoder.layer.4.attention.attention.query\n",
      "vit.encoder.layer.4.attention.attention.key\n",
      "vit.encoder.layer.4.attention.attention.value\n",
      "vit.encoder.layer.4.attention.attention.dropout\n",
      "vit.encoder.layer.4.attention.output\n",
      "vit.encoder.layer.4.attention.output.dense\n",
      "vit.encoder.layer.4.attention.output.dropout\n",
      "vit.encoder.layer.4.intermediate\n",
      "vit.encoder.layer.4.intermediate.dense\n",
      "vit.encoder.layer.4.intermediate.intermediate_act_fn\n",
      "vit.encoder.layer.4.output\n",
      "vit.encoder.layer.4.output.dense\n",
      "vit.encoder.layer.4.output.dropout\n",
      "vit.encoder.layer.4.layernorm_before\n",
      "vit.encoder.layer.4.layernorm_after\n",
      "vit.encoder.layer.5\n",
      "vit.encoder.layer.5.attention\n",
      "vit.encoder.layer.5.attention.attention\n",
      "vit.encoder.layer.5.attention.attention.query\n",
      "vit.encoder.layer.5.attention.attention.key\n",
      "vit.encoder.layer.5.attention.attention.value\n",
      "vit.encoder.layer.5.attention.attention.dropout\n",
      "vit.encoder.layer.5.attention.output\n",
      "vit.encoder.layer.5.attention.output.dense\n",
      "vit.encoder.layer.5.attention.output.dropout\n",
      "vit.encoder.layer.5.intermediate\n",
      "vit.encoder.layer.5.intermediate.dense\n",
      "vit.encoder.layer.5.intermediate.intermediate_act_fn\n",
      "vit.encoder.layer.5.output\n",
      "vit.encoder.layer.5.output.dense\n",
      "vit.encoder.layer.5.output.dropout\n",
      "vit.encoder.layer.5.layernorm_before\n",
      "vit.encoder.layer.5.layernorm_after\n",
      "vit.encoder.layer.6\n",
      "vit.encoder.layer.6.attention\n",
      "vit.encoder.layer.6.attention.attention\n",
      "vit.encoder.layer.6.attention.attention.query\n",
      "vit.encoder.layer.6.attention.attention.key\n",
      "vit.encoder.layer.6.attention.attention.value\n",
      "vit.encoder.layer.6.attention.attention.dropout\n",
      "vit.encoder.layer.6.attention.output\n",
      "vit.encoder.layer.6.attention.output.dense\n",
      "vit.encoder.layer.6.attention.output.dropout\n",
      "vit.encoder.layer.6.intermediate\n",
      "vit.encoder.layer.6.intermediate.dense\n",
      "vit.encoder.layer.6.intermediate.intermediate_act_fn\n",
      "vit.encoder.layer.6.output\n",
      "vit.encoder.layer.6.output.dense\n",
      "vit.encoder.layer.6.output.dropout\n",
      "vit.encoder.layer.6.layernorm_before\n",
      "vit.encoder.layer.6.layernorm_after\n",
      "vit.encoder.layer.7\n",
      "vit.encoder.layer.7.attention\n",
      "vit.encoder.layer.7.attention.attention\n",
      "vit.encoder.layer.7.attention.attention.query\n",
      "vit.encoder.layer.7.attention.attention.key\n",
      "vit.encoder.layer.7.attention.attention.value\n",
      "vit.encoder.layer.7.attention.attention.dropout\n",
      "vit.encoder.layer.7.attention.output\n",
      "vit.encoder.layer.7.attention.output.dense\n",
      "vit.encoder.layer.7.attention.output.dropout\n",
      "vit.encoder.layer.7.intermediate\n",
      "vit.encoder.layer.7.intermediate.dense\n",
      "vit.encoder.layer.7.intermediate.intermediate_act_fn\n",
      "vit.encoder.layer.7.output\n",
      "vit.encoder.layer.7.output.dense\n",
      "vit.encoder.layer.7.output.dropout\n",
      "vit.encoder.layer.7.layernorm_before\n",
      "vit.encoder.layer.7.layernorm_after\n",
      "vit.encoder.layer.8\n",
      "vit.encoder.layer.8.attention\n",
      "vit.encoder.layer.8.attention.attention\n",
      "vit.encoder.layer.8.attention.attention.query\n",
      "vit.encoder.layer.8.attention.attention.key\n",
      "vit.encoder.layer.8.attention.attention.value\n",
      "vit.encoder.layer.8.attention.attention.dropout\n",
      "vit.encoder.layer.8.attention.output\n",
      "vit.encoder.layer.8.attention.output.dense\n",
      "vit.encoder.layer.8.attention.output.dropout\n",
      "vit.encoder.layer.8.intermediate\n",
      "vit.encoder.layer.8.intermediate.dense\n",
      "vit.encoder.layer.8.intermediate.intermediate_act_fn\n",
      "vit.encoder.layer.8.output\n",
      "vit.encoder.layer.8.output.dense\n",
      "vit.encoder.layer.8.output.dropout\n",
      "vit.encoder.layer.8.layernorm_before\n",
      "vit.encoder.layer.8.layernorm_after\n",
      "vit.encoder.layer.9\n",
      "vit.encoder.layer.9.attention\n",
      "vit.encoder.layer.9.attention.attention\n",
      "vit.encoder.layer.9.attention.attention.query\n",
      "vit.encoder.layer.9.attention.attention.key\n",
      "vit.encoder.layer.9.attention.attention.value\n",
      "vit.encoder.layer.9.attention.attention.dropout\n",
      "vit.encoder.layer.9.attention.output\n",
      "vit.encoder.layer.9.attention.output.dense\n",
      "vit.encoder.layer.9.attention.output.dropout\n",
      "vit.encoder.layer.9.intermediate\n",
      "vit.encoder.layer.9.intermediate.dense\n",
      "vit.encoder.layer.9.intermediate.intermediate_act_fn\n",
      "vit.encoder.layer.9.output\n",
      "vit.encoder.layer.9.output.dense\n",
      "vit.encoder.layer.9.output.dropout\n",
      "vit.encoder.layer.9.layernorm_before\n",
      "vit.encoder.layer.9.layernorm_after\n",
      "vit.encoder.layer.10\n",
      "vit.encoder.layer.10.attention\n",
      "vit.encoder.layer.10.attention.attention\n",
      "vit.encoder.layer.10.attention.attention.query\n",
      "vit.encoder.layer.10.attention.attention.key\n",
      "vit.encoder.layer.10.attention.attention.value\n",
      "vit.encoder.layer.10.attention.attention.dropout\n",
      "vit.encoder.layer.10.attention.output\n",
      "vit.encoder.layer.10.attention.output.dense\n",
      "vit.encoder.layer.10.attention.output.dropout\n",
      "vit.encoder.layer.10.intermediate\n",
      "vit.encoder.layer.10.intermediate.dense\n",
      "vit.encoder.layer.10.intermediate.intermediate_act_fn\n",
      "vit.encoder.layer.10.output\n",
      "vit.encoder.layer.10.output.dense\n",
      "vit.encoder.layer.10.output.dropout\n",
      "vit.encoder.layer.10.layernorm_before\n",
      "vit.encoder.layer.10.layernorm_after\n",
      "vit.encoder.layer.11\n",
      "vit.encoder.layer.11.attention\n",
      "vit.encoder.layer.11.attention.attention\n",
      "vit.encoder.layer.11.attention.attention.query\n",
      "vit.encoder.layer.11.attention.attention.key\n",
      "vit.encoder.layer.11.attention.attention.value\n",
      "vit.encoder.layer.11.attention.attention.dropout\n",
      "vit.encoder.layer.11.attention.output\n",
      "vit.encoder.layer.11.attention.output.dense\n",
      "vit.encoder.layer.11.attention.output.dropout\n",
      "vit.encoder.layer.11.intermediate\n",
      "vit.encoder.layer.11.intermediate.dense\n",
      "vit.encoder.layer.11.intermediate.intermediate_act_fn\n",
      "vit.encoder.layer.11.output\n",
      "vit.encoder.layer.11.output.dense\n",
      "vit.encoder.layer.11.output.dropout\n",
      "vit.encoder.layer.11.layernorm_before\n",
      "vit.encoder.layer.11.layernorm_after\n",
      "vit.layernorm\n",
      "classifier\n"
     ]
    }
   ],
   "source": [
    "for name, m in model.named_modules():\n",
    "    print(name)"
   ]
  },
  {
   "attachments": {},
   "cell_type": "markdown",
   "metadata": {},
   "source": [
    "#### OOD Detection"
   ]
  },
  {
   "cell_type": "code",
   "execution_count": 35,
   "metadata": {},
   "outputs": [],
   "source": [
    "class CustomDataset(Dataset):\n",
    "    def __init__(self, root_dir, transform=None):\n",
    "        self.root_dir = root_dir\n",
    "        self.transform = transform\n",
    "        self.img_list = os.listdir(root_dir)\n",
    "\n",
    "    def __len__(self):\n",
    "        return len(self.img_list)\n",
    "\n",
    "    def __getitem__(self, idx):\n",
    "        img_path = os.path.join(self.root_dir, self.img_list[idx])\n",
    "        image = Image.open(img_path)\n",
    "\n",
    "        if self.transform:\n",
    "            image = self.transform(image)\n",
    "\n",
    "        return image"
   ]
  },
  {
   "cell_type": "code",
   "execution_count": null,
   "metadata": {},
   "outputs": [],
   "source": []
  },
  {
   "cell_type": "code",
   "execution_count": 36,
   "metadata": {},
   "outputs": [],
   "source": [
    "batch_size = 1\n",
    "\n",
    "in_ds = HAM10000(df_val, transform=val_transform)\n",
    "out_ds = HAM10000(ood_df, transform=val_transform)\n",
    "out_ds2 = CustomDataset('ood_lesions', transform=val_transform)\n",
    "out_ds3 = CustomDataset('ood_monkeypox', transform=val_transform)\n",
    "out_ds4 = CustomDataset('ood_other_lesions', transform=val_transform)\n",
    "\n",
    "\n",
    "id_loader = DataLoader(in_ds, batch_size=batch_size, shuffle=True)\n",
    "ood_loader = DataLoader(out_ds, batch_size=batch_size,shuffle=False)\n",
    "ood_loader2 = DataLoader(out_ds2, batch_size=batch_size,shuffle=False)\n",
    "ood_loader3 = DataLoader(out_ds3, batch_size=batch_size,shuffle=False)\n",
    "ood_loader4 = DataLoader(out_ds4, batch_size=batch_size,shuffle=False)"
   ]
  },
  {
   "attachments": {},
   "cell_type": "markdown",
   "metadata": {},
   "source": [
    "## OpenPCS"
   ]
  },
  {
   "cell_type": "code",
   "execution_count": 37,
   "metadata": {},
   "outputs": [],
   "source": [
    "class Hook:\n",
    "    \"\"\"Attaches to a module and records its activations and gradients.\"\"\"\n",
    "\n",
    "    def __init__(self, module: nn.Module):\n",
    "        self.data = None\n",
    "        self.hook = module.register_forward_hook(self.save_grad)\n",
    "        \n",
    "    def save_grad(self, module, input, output):\n",
    "        self.data = output\n",
    "        output.requires_grad_(True)\n",
    "        output.retain_grad()\n",
    "        \n",
    "    def __enter__(self):\n",
    "        return self\n",
    "    \n",
    "    def __exit__(self, exc_type, exc_value, exc_traceback):\n",
    "        self.hook.remove()\n",
    "        \n",
    "    @property\n",
    "    def activation(self) -> torch.Tensor:\n",
    "        return self.data\n",
    "    \n",
    "    @property\n",
    "    def gradient(self) -> torch.Tensor:\n",
    "        return self.data.grad\n"
   ]
  },
  {
   "cell_type": "code",
   "execution_count": 38,
   "metadata": {},
   "outputs": [],
   "source": [
    "class ForwardHook:\n",
    "    def __init__(self, layer):\n",
    "        self.hook = layer.register_forward_hook(self.hook_fn)\n",
    "        self.features = None\n",
    "\n",
    "    def hook_fn(self, module, input, output):\n",
    "        self.features = output.last_hidden_state\n",
    "\n",
    "    def __enter__(self):\n",
    "        return self\n",
    "\n",
    "    def __exit__(self, exc_type, exc_value, exc_traceback):\n",
    "        self.hook.remove()"
   ]
  },
  {
   "cell_type": "code",
   "execution_count": 39,
   "metadata": {},
   "outputs": [],
   "source": [
    "for param in model.parameters():\n",
    "    param.requires_grad = True"
   ]
  },
  {
   "cell_type": "code",
   "execution_count": 116,
   "metadata": {},
   "outputs": [],
   "source": [
    "if model_name == 'microsoft/resnet-50':\n",
    "     layer = model.resnet\n",
    "elif model_name == 'google/vit-base-patch16-224':\n",
    "     layer = model.vit\n",
    "else:\n",
    "    layer = model.convnext\n",
    "\n",
    "np_features = None\n",
    "np_labels = None\n",
    "\n",
    "i = 0\n",
    "\n",
    "for batch in train_loader:\n",
    "    input, label = batch\n",
    "    input = Variable(input).to(device)\n",
    "    labels = label.numpy()\n",
    "    model.eval()\n",
    "    #with torch.no_grad():\n",
    "    with ForwardHook(layer) as hook:        \n",
    "\n",
    "        output = model(input)\n",
    "\n",
    "        act = hook.features.float()\n",
    "        if model_name == 'google/vit-base-patch16-224':\n",
    "            features = act.mean(dim=1).view(act.shape[0], -1).detach().cpu().numpy()\n",
    "        else: \n",
    "            act = act.mean(dim=2)\n",
    "            features = act.mean(dim=2).view(act.shape[0], -1).detach().cpu().numpy()\n",
    "        \n",
    "        if np_features is None:\n",
    "                np_features = features \n",
    "                np_labels = labels\n",
    "        else:\n",
    "            np_features = np.vstack((np_features, features))\n",
    "            np_labels = np.concatenate((np_labels, labels))\n",
    "\n",
    "\n",
    "            "
   ]
  },
  {
   "cell_type": "code",
   "execution_count": 117,
   "metadata": {},
   "outputs": [
    {
     "data": {
      "text/plain": [
       "(7544, 768)"
      ]
     },
     "execution_count": 117,
     "metadata": {},
     "output_type": "execute_result"
    }
   ],
   "source": [
    "np_features.shape"
   ]
  },
  {
   "attachments": {},
   "cell_type": "markdown",
   "metadata": {},
   "source": [
    "#### Validation set "
   ]
  },
  {
   "cell_type": "code",
   "execution_count": 118,
   "metadata": {},
   "outputs": [],
   "source": [
    "id_features = None\n",
    "id_labels = None\n",
    "\n",
    "for batch in id_loader:\n",
    "    input, label = batch\n",
    "    input = Variable(input).to(device)\n",
    "    labels = label.numpy()\n",
    "    model.eval()\n",
    "    with torch.no_grad():\n",
    "        with ForwardHook(layer) as hook:        \n",
    "                # Do a forward and backward pass.\n",
    "                output = model(input)\n",
    "\n",
    "                act = hook.features.float()\n",
    "                if model_name == 'google/vit-base-patch16-224':\n",
    "                    features = act.mean(dim=1).view(act.shape[0], -1).detach().cpu().numpy()\n",
    "                else: \n",
    "                    act = act.mean(dim=2)\n",
    "                    features = act.mean(dim=2).view(act.shape[0], -1).detach().cpu().numpy()\n",
    "        \n",
    "                if id_features is None:\n",
    "                     id_features = features \n",
    "                     id_labels = labels\n",
    "                else:\n",
    "                    id_features = np.vstack((id_features, features))\n",
    "                    id_labels = np.concatenate((id_labels, labels))"
   ]
  },
  {
   "cell_type": "code",
   "execution_count": 119,
   "metadata": {},
   "outputs": [],
   "source": [
    "def get_ood_features(model, ood_loader):\n",
    "    ood_features = None\n",
    "\n",
    "    for batch in ood_loader:\n",
    "        if len(batch) == 2:\n",
    "            input, label = batch\n",
    "        else:\n",
    "            input = batch \n",
    "        input = Variable(input).to(device)\n",
    "        model.eval()\n",
    "        with torch.no_grad():\n",
    "            with ForwardHook(layer) as hook:        \n",
    "                    # Do a forward and backward pass.\n",
    "                    output = model(input)\n",
    "                    \n",
    "                    act = hook.features.float()\n",
    "                    if model_name == 'google/vit-base-patch16-224':\n",
    "                        features = act.mean(dim=1).view(act.shape[0], -1).detach().cpu().numpy()\n",
    "                    else: \n",
    "                        act = act.mean(dim=2)\n",
    "                        features = act.mean(dim=2).view(act.shape[0], -1).detach().cpu().numpy()\n",
    "                    \n",
    "                    if ood_features is None:\n",
    "                        ood_features = features \n",
    "                    else:\n",
    "                        ood_features = np.vstack((ood_features, features))\n",
    "\n",
    "    return ood_features    "
   ]
  },
  {
   "cell_type": "code",
   "execution_count": 120,
   "metadata": {},
   "outputs": [],
   "source": [
    "ood_features = get_ood_features(model, ood_loader)\n",
    "ood_features2 = get_ood_features(model, ood_loader2)\n",
    "ood_features3 = get_ood_features(model, ood_loader3)\n",
    "ood_features4 = get_ood_features(model, ood_loader4)"
   ]
  },
  {
   "cell_type": "code",
   "execution_count": null,
   "metadata": {},
   "outputs": [],
   "source": []
  },
  {
   "cell_type": "code",
   "execution_count": null,
   "metadata": {},
   "outputs": [],
   "source": []
  },
  {
   "cell_type": "code",
   "execution_count": null,
   "metadata": {},
   "outputs": [],
   "source": []
  },
  {
   "cell_type": "code",
   "execution_count": 122,
   "metadata": {},
   "outputs": [],
   "source": [
    "from sklearn.decomposition import PCA \n",
    "\n",
    "class OpenPCS():\n",
    "    def __init__(self, n_components=3):\n",
    "        self.components = n_components\n",
    "        \n",
    "    def fit_PCA(self, in_scores=None, labels=None):\n",
    "        self.pca_ = {} \n",
    "       \n",
    "        for i in np.unique(labels):\n",
    "            pca = PCA(n_components=self.components)\n",
    "            \n",
    "            X_fit = in_scores[labels==i]\n",
    "            print(X_fit.shape)\n",
    "            pca.fit(X_fit)\n",
    "            self.pca_[f'pca_{i}'] = pca\n",
    "\n",
    "    def get_scores(self, states):\n",
    "\n",
    "        scores_ = []\n",
    "        for _, estimator in self.pca_.items():\n",
    "            scores = estimator.score_samples(states)\n",
    "            scores_.append(scores)\n",
    "        \n",
    "        pca_scores = np.max(np.array(scores_), axis=0)\n",
    "\n",
    "        return pca_scores"
   ]
  },
  {
   "cell_type": "code",
   "execution_count": 123,
   "metadata": {},
   "outputs": [],
   "source": [
    "from ood_metrics import get_measures"
   ]
  },
  {
   "cell_type": "code",
   "execution_count": 124,
   "metadata": {},
   "outputs": [
    {
     "data": {
      "text/plain": [
       "(7544, 768)"
      ]
     },
     "execution_count": 124,
     "metadata": {},
     "output_type": "execute_result"
    }
   ],
   "source": [
    "np_features.shape"
   ]
  },
  {
   "cell_type": "code",
   "execution_count": 125,
   "metadata": {},
   "outputs": [
    {
     "data": {
      "text/plain": [
       "(array([0, 1, 2, 3], dtype=int64),\n",
       " array([ 418,  860, 5386,  880], dtype=int64))"
      ]
     },
     "execution_count": 125,
     "metadata": {},
     "output_type": "execute_result"
    }
   ],
   "source": [
    "np.unique(np_labels, return_counts=True)"
   ]
  },
  {
   "cell_type": "code",
   "execution_count": 126,
   "metadata": {},
   "outputs": [
    {
     "name": "stdout",
     "output_type": "stream",
     "text": [
      "(418, 768)\n",
      "(860, 768)\n",
      "(5386, 768)\n",
      "(880, 768)\n"
     ]
    }
   ],
   "source": [
    "from ood_metrics import get_measures\n",
    "openpcs = OpenPCS(n_components=400)\n",
    "\n",
    "openpcs.fit_PCA(in_scores = np_features, labels=np_labels)\n",
    "\n",
    "in_scores = openpcs.get_scores(id_features)\n",
    "ood_scores = openpcs.get_scores(ood_features)\n",
    "ood_scores2 = openpcs.get_scores(ood_features2)\n",
    "ood_scores3 = openpcs.get_scores(ood_features3)\n",
    "ood_scores4 = openpcs.get_scores(ood_features4)"
   ]
  },
  {
   "cell_type": "code",
   "execution_count": 127,
   "metadata": {},
   "outputs": [
    {
     "name": "stdout",
     "output_type": "stream",
     "text": [
      "Experiment 1:\n",
      "0.7515 & 0.9078 & 0.8082\n",
      "Experiment 2:\n",
      "AUROC = 0.9914416348508234, AUPR = 0.9987299773555949 FPR95 = 0.025547445255474453\n",
      "0.9914 & 0.9987 & 0.0255\n",
      "Experiment 3:\n",
      "AUROC = 0.992326236270873, AUPR = 0.9995790977790302 FPR95 = 0.0392156862745098\n",
      "0.9923 & 0.9996 & 0.0392\n",
      "Experiment 4:\n",
      "AUROC = 0.9861373979021039, AUPR = 0.9990846918871753 FPR95 = 0.03968253968253968\n",
      "0.9861 & 0.9991 & 0.0397\n"
     ]
    }
   ],
   "source": [
    "print(f'Experiment 1:')\n",
    "auroc, aupr_in, aupr_out, fpr, fpr_, tpr_ = get_measures(in_scores.reshape(-1,1), ood_scores.reshape(-1,1))\n",
    "#print(f'AUROC = {auroc}, AUPR = {aupr_in} FPR95 = {fpr}')\n",
    "print(f'{round(auroc,4)} & {round(aupr_in,4)} & {round(fpr,4)}')\n",
    "print(f'Experiment 2:')\n",
    "auroc, aupr_in, aupr_out, fpr, fpr_, tpr_ = get_measures(in_scores.reshape(-1,1), ood_scores2.reshape(-1,1))\n",
    "print(f'AUROC = {auroc}, AUPR = {aupr_in} FPR95 = {fpr}')\n",
    "print(f'{round(auroc,4)} & {round(aupr_in,4)} & {round(fpr,4)}')\n",
    "\n",
    "\n",
    "print(f'Experiment 3:')\n",
    "auroc, aupr_in, aupr_out, fpr, fpr_, tpr_ = get_measures(in_scores.reshape(-1,1), ood_scores3.reshape(-1,1))\n",
    "print(f'AUROC = {auroc}, AUPR = {aupr_in} FPR95 = {fpr}')\n",
    "print(f'{round(auroc,4)} & {round(aupr_in,4)} & {round(fpr,4)}')\n",
    "\n",
    "\n",
    "print(f'Experiment 4:')\n",
    "auroc, aupr_in, aupr_out, fpr, fpr_, tpr_ = get_measures(in_scores.reshape(-1,1), ood_scores4.reshape(-1,1))\n",
    "print(f'AUROC = {auroc}, AUPR = {aupr_in} FPR95 = {fpr}')\n",
    "print(f'{round(auroc,4)} & {round(aupr_in,4)} & {round(fpr,4)}')\n"
   ]
  },
  {
   "cell_type": "code",
   "execution_count": 52,
   "metadata": {},
   "outputs": [],
   "source": [
    "from sklearn.mixture import GaussianMixture\n",
    "\n",
    "\n",
    "class GaussianDist():\n",
    "    def __init__(self, n_components=3):\n",
    "        self.components = n_components\n",
    "        \n",
    "    def fit_PCA(self, in_scores=None, labels=None):\n",
    "        self.pca_ = {} \n",
    "       \n",
    "        for i in np.unique(labels):\n",
    "            pca = GaussianMixture(n_components=self.components)\n",
    "            \n",
    "            X_fit = in_scores[labels==i]\n",
    "            pca.fit(X_fit)\n",
    "            self.pca_[f'pca_{i}'] = pca\n",
    "\n",
    "    def get_scores(self, states):\n",
    "\n",
    "        scores_ = []\n",
    "        for _, estimator in self.pca_.items():\n",
    "            scores = estimator.score_samples(states)\n",
    "            scores_.append(scores)\n",
    "        \n",
    "        pca_scores = np.max(np.array(scores_), axis=0)\n",
    "\n",
    "        return pca_scores"
   ]
  },
  {
   "cell_type": "code",
   "execution_count": 108,
   "metadata": {},
   "outputs": [],
   "source": [
    "from sklearn.mixture import GaussianMixture\n",
    "\n",
    "\n",
    "class Mahalanobis():\n",
    "    def __init__(self, n_components=3):\n",
    "        self.components = n_components\n",
    "        \n",
    "    def fit_PCA(self, in_scores=None, labels=None):\n",
    "        self.pca_ = {} \n",
    "       \n",
    "        for i in np.unique(labels):\n",
    "            pca = GaussianMixture(n_components=self.components)\n",
    "            \n",
    "            X_fit = in_scores[labels==i]\n",
    "            pca.fit(X_fit)\n",
    "            self.pca_[f'pca_{i}'] = pca\n",
    "\n",
    "    def get_scores(self, states):\n",
    "\n",
    "        scores_ = []\n",
    "        for _, estimator in self.pca_.items():\n",
    "            x_mu = states - estimator.means_[0,:]\n",
    "            inv_covmat = np.linalg.inv(estimator.covariances_[0,:])\n",
    "            left = np.dot(x_mu, inv_covmat)\n",
    "            mahal = np.dot(left, x_mu.T)\n",
    "            scores_.append(mahal.diagonal())\n",
    "        pca_scores = np.max(np.array(scores_), axis=0)\n",
    "\n",
    "        return pca_scores"
   ]
  },
  {
   "cell_type": "code",
   "execution_count": 109,
   "metadata": {},
   "outputs": [],
   "source": [
    "openpcs = Mahalanobis(n_components=1)\n",
    "\n",
    "openpcs.fit_PCA(in_scores = np_features, labels=np_labels)\n",
    "\n",
    "in_scores = openpcs.get_scores(id_features)\n",
    "ood_scores = openpcs.get_scores(ood_features)\n",
    "ood_scores2 = openpcs.get_scores(ood_features2)\n",
    "ood_scores3 = openpcs.get_scores(ood_features3)\n",
    "ood_scores4 = openpcs.get_scores(ood_features4)"
   ]
  },
  {
   "cell_type": "code",
   "execution_count": 110,
   "metadata": {},
   "outputs": [
    {
     "data": {
      "text/plain": [
       "(1887,)"
      ]
     },
     "execution_count": 110,
     "metadata": {},
     "output_type": "execute_result"
    }
   ],
   "source": [
    "in_scores.shape"
   ]
  },
  {
   "cell_type": "code",
   "execution_count": 111,
   "metadata": {},
   "outputs": [
    {
     "name": "stdout",
     "output_type": "stream",
     "text": [
      "Experiment 1:\n",
      "0.5564 & 0.7786 & 0.8955\n",
      "Experiment 2:\n",
      "AUROC = 0.9840205168672322, AUPR = 0.9975500849260257 FPR95 = 0.06204379562043796\n",
      "0.984 & 0.9976 & 0.062\n",
      "Experiment 3:\n",
      "AUROC = 0.976121450169893, AUPR = 0.9986012345218481 FPR95 = 0.12745098039215685\n",
      "0.9761 & 0.9986 & 0.1275\n",
      "Experiment 4:\n",
      "AUROC = 0.9611418140829904, AUPR = 0.9973176028209225 FPR95 = 0.2698412698412698\n",
      "0.9611 & 0.9973 & 0.2698\n"
     ]
    }
   ],
   "source": [
    "print(f'Experiment 1:')\n",
    "auroc, aupr_in, aupr_out, fpr, fpr_, tpr_ = get_measures(-in_scores.reshape(-1,1), -ood_scores.reshape(-1,1))\n",
    "#print(f'AUROC = {auroc}, AUPR = {aupr_in} FPR95 = {fpr}')\n",
    "print(f'{round(auroc,4)} & {round(aupr_in,4)} & {round(fpr,4)}')\n",
    "print(f'Experiment 2:')\n",
    "auroc, aupr_in, aupr_out, fpr, fpr_, tpr_ = get_measures(-in_scores.reshape(-1,1), -ood_scores2.reshape(-1,1))\n",
    "print(f'AUROC = {auroc}, AUPR = {aupr_in} FPR95 = {fpr}')\n",
    "print(f'{round(auroc,4)} & {round(aupr_in,4)} & {round(fpr,4)}')\n",
    "\n",
    "\n",
    "print(f'Experiment 3:')\n",
    "auroc, aupr_in, aupr_out, fpr, fpr_, tpr_ = get_measures(-in_scores.reshape(-1,1), -ood_scores3.reshape(-1,1))\n",
    "print(f'AUROC = {auroc}, AUPR = {aupr_in} FPR95 = {fpr}')\n",
    "print(f'{round(auroc,4)} & {round(aupr_in,4)} & {round(fpr,4)}')\n",
    "\n",
    "\n",
    "print(f'Experiment 4:')\n",
    "auroc, aupr_in, aupr_out, fpr, fpr_, tpr_ = get_measures(-in_scores.reshape(-1,1), -ood_scores4.reshape(-1,1))\n",
    "print(f'AUROC = {auroc}, AUPR = {aupr_in} FPR95 = {fpr}')\n",
    "print(f'{round(auroc,4)} & {round(aupr_in,4)} & {round(fpr,4)}')\n"
   ]
  },
  {
   "cell_type": "code",
   "execution_count": 57,
   "metadata": {},
   "outputs": [],
   "source": [
    "openpcs = GaussianDist(n_components=5)\n",
    "\n",
    "openpcs.fit_PCA(in_scores = np_features, labels=np_labels)\n",
    "\n",
    "in_scores = openpcs.get_scores(id_features)\n",
    "ood_scores = openpcs.get_scores(ood_features)\n",
    "ood_scores2 = openpcs.get_scores(ood_features2)\n",
    "ood_scores3 = openpcs.get_scores(ood_features3)\n",
    "ood_scores4 = openpcs.get_scores(ood_features4)"
   ]
  },
  {
   "cell_type": "code",
   "execution_count": 58,
   "metadata": {},
   "outputs": [
    {
     "data": {
      "text/plain": [
       "(126,)"
      ]
     },
     "execution_count": 58,
     "metadata": {},
     "output_type": "execute_result"
    }
   ],
   "source": [
    "ood_scores4.shape"
   ]
  },
  {
   "attachments": {},
   "cell_type": "markdown",
   "metadata": {},
   "source": [
    "## OpenPCS - Results"
   ]
  },
  {
   "cell_type": "code",
   "execution_count": 59,
   "metadata": {},
   "outputs": [
    {
     "name": "stdout",
     "output_type": "stream",
     "text": [
      "Experiment 1:\n",
      "0.7387 & 0.9042 & 0.8322\n",
      "Experiment 2:\n",
      "AUROC = 0.9893334725880882, AUPR = 0.9984248942576076 FPR95 = 0.040145985401459854\n",
      "0.9893 & 0.9984 & 0.0401\n",
      "Experiment 3:\n",
      "AUROC = 0.9880659205918721, AUPR = 0.9993358647934312 FPR95 = 0.058823529411764705\n",
      "0.9881 & 0.9993 & 0.0588\n",
      "Experiment 4:\n",
      "AUROC = 0.9713999713999714, AUPR = 0.9980810593909182 FPR95 = 0.19047619047619047\n",
      "0.9714 & 0.9981 & 0.1905\n"
     ]
    }
   ],
   "source": [
    "print(f'Experiment 1:')\n",
    "auroc, aupr_in, aupr_out, fpr, fpr_, tpr_ = get_measures(in_scores.reshape(-1,1), ood_scores.reshape(-1,1))\n",
    "#print(f'AUROC = {auroc}, AUPR = {aupr_in} FPR95 = {fpr}')\n",
    "print(f'{round(auroc,4)} & {round(aupr_in,4)} & {round(fpr,4)}')\n",
    "print(f'Experiment 2:')\n",
    "auroc, aupr_in, aupr_out, fpr, fpr_, tpr_ = get_measures(in_scores.reshape(-1,1), ood_scores2.reshape(-1,1))\n",
    "print(f'AUROC = {auroc}, AUPR = {aupr_in} FPR95 = {fpr}')\n",
    "print(f'{round(auroc,4)} & {round(aupr_in,4)} & {round(fpr,4)}')\n",
    "\n",
    "\n",
    "print(f'Experiment 3:')\n",
    "auroc, aupr_in, aupr_out, fpr, fpr_, tpr_ = get_measures(in_scores.reshape(-1,1), ood_scores3.reshape(-1,1))\n",
    "print(f'AUROC = {auroc}, AUPR = {aupr_in} FPR95 = {fpr}')\n",
    "print(f'{round(auroc,4)} & {round(aupr_in,4)} & {round(fpr,4)}')\n",
    "\n",
    "\n",
    "print(f'Experiment 4:')\n",
    "auroc, aupr_in, aupr_out, fpr, fpr_, tpr_ = get_measures(in_scores.reshape(-1,1), ood_scores4.reshape(-1,1))\n",
    "print(f'AUROC = {auroc}, AUPR = {aupr_in} FPR95 = {fpr}')\n",
    "print(f'{round(auroc,4)} & {round(aupr_in,4)} & {round(fpr,4)}')\n"
   ]
  },
  {
   "cell_type": "code",
   "execution_count": 114,
   "metadata": {},
   "outputs": [],
   "source": [
    "import seaborn as sns \n",
    "\n",
    "sns.set_style('whitegrid')\n",
    "\n",
    "SMALL_SIZE = 10\n",
    "MEDIUM_SIZE = 12\n",
    "BIGGER_SIZE = 14\n",
    "\n",
    "plt.rc('font', size=SMALL_SIZE)          # controls default text sizes\n",
    "plt.rc('axes', titlesize=SMALL_SIZE)     # fontsize of the axes title\n",
    "plt.rc('axes', labelsize=MEDIUM_SIZE)    # fontsize of the x and y labels\n",
    "plt.rc('xtick', labelsize=SMALL_SIZE)    # fontsize of the tick labels\n",
    "plt.rc('ytick', labelsize=SMALL_SIZE)    # fontsize of the tick labels\n",
    "plt.rc('legend', fontsize=SMALL_SIZE)    # legend fontsize\n",
    "plt.rc('figure', titlesize=BIGGER_SIZE)  # fontsize of the figure title\n"
   ]
  },
  {
   "cell_type": "code",
   "execution_count": 128,
   "metadata": {},
   "outputs": [
    {
     "data": {
      "image/png": "[encoded data removed]",
      "text/plain": [
       "<Figure size 400x500 with 1 Axes>"
      ]
     },
     "metadata": {},
     "output_type": "display_data"
    }
   ],
   "source": [
    "plt.figure(figsize=(4,5))\n",
    "sns.kdeplot(in_scores)\n",
    "sns.kdeplot(ood_scores2)\n",
    "plt.xlabel('Likelihood')\n",
    "plt.legend(['In-Distribution','Out-of-Distribution'])\n",
    "\n",
    "plt.locator_params(axis='y', nbins=6)\n",
    "plt.locator_params(axis='x', nbins=5)"
   ]
  },
  {
   "cell_type": "code",
   "execution_count": null,
   "metadata": {},
   "outputs": [],
   "source": []
  },
  {
   "cell_type": "code",
   "execution_count": 62,
   "metadata": {},
   "outputs": [
    {
     "data": {
      "text/plain": [
       "(array([4.31454876e-06, 1.07863719e-05, 2.58872925e-05, 2.37300182e-05,\n",
       "        6.47182314e-05, 1.10020993e-04, 1.94154694e-04, 3.55950273e-04,\n",
       "        3.73208468e-04, 9.70773471e-05]),\n",
       " array([-7817.4940114 , -7023.74761373, -6230.00121605, -5436.25481838,\n",
       "        -4642.5084207 , -3848.76202303, -3055.01562535, -2261.26922767,\n",
       "        -1467.52283   ,  -673.77643232,   119.96996535]),\n",
       " <BarContainer object of 10 artists>)"
      ]
     },
     "execution_count": 62,
     "metadata": {},
     "output_type": "execute_result"
    },
    {
     "data": {
      "image/png": "[encoded data removed]",
      "text/plain": [
       "<Figure size 640x480 with 1 Axes>"
      ]
     },
     "metadata": {},
     "output_type": "display_data"
    }
   ],
   "source": [
    "plt.hist(in_scores, density=True, alpha=0.5)\n",
    "plt.hist(ood_scores, density=True, alpha=0.5)"
   ]
  },
  {
   "attachments": {},
   "cell_type": "markdown",
   "metadata": {},
   "source": [
    "## MSP "
   ]
  },
  {
   "cell_type": "code",
   "execution_count": 63,
   "metadata": {},
   "outputs": [],
   "source": [
    "from torch.nn.functional import softmax"
   ]
  },
  {
   "cell_type": "code",
   "execution_count": 64,
   "metadata": {},
   "outputs": [],
   "source": [
    "np_labels = None \n",
    "np_logits = None \n",
    "\n",
    "for batch in train_loader:\n",
    "    input, label = batch\n",
    "    input = Variable(input).to(device)\n",
    "    labels = label.numpy()\n",
    "    model.eval()\n",
    "    with torch.no_grad():\n",
    "        output = model(input)\n",
    "\n",
    "        logits = output.logits.detach().cpu().numpy()\n",
    "        \n",
    "        if np_logits is None:\n",
    "            np_labels = labels \n",
    "            np_logits = logits\n",
    "                \n",
    "        else:\n",
    "            np_logits = np.vstack((np_logits, logits))\n",
    "            np_labels = np.concatenate((np_labels, labels))"
   ]
  },
  {
   "cell_type": "code",
   "execution_count": 65,
   "metadata": {},
   "outputs": [
    {
     "name": "stdout",
     "output_type": "stream",
     "text": [
      "Class 0\n",
      "2.4557607\n",
      "1.8234706\n",
      "Class 1\n",
      "0.66729724\n",
      "1.3308454\n",
      "Class 2\n",
      "3.7445138\n",
      "1.5003132\n",
      "Class 3\n",
      "1.3325037\n",
      "1.1972572\n"
     ]
    }
   ],
   "source": [
    "logit_means = []\n",
    "logit_stds = []\n",
    "for i in np.unique(np_labels):\n",
    "    class_logits = np_logits[np_labels==i,i] \n",
    "    print(f'Class {i}')\n",
    "    print(np.mean(class_logits))\n",
    "    print(np.std(class_logits))\n",
    "    logit_means.append(np.mean(class_logits))\n",
    "    logit_stds.append(np.std(class_logits))\n",
    "\n",
    "torch_means = torch.tensor(logit_means).to(device)\n",
    "torch_stds = torch.tensor(logit_means).to(device)"
   ]
  },
  {
   "cell_type": "code",
   "execution_count": 66,
   "metadata": {},
   "outputs": [],
   "source": [
    "msp_id_features = None\n",
    "\n",
    "for batch in id_loader:\n",
    "    input, label = batch\n",
    "    input = Variable(input).to(device)\n",
    "    labels = label.numpy()\n",
    "    model.eval()\n",
    "    with torch.no_grad():\n",
    "        output = model(input)\n",
    "\n",
    "\n",
    "        out_logits = (output.logits - torch_means)/torch_stds\n",
    "        msp, _ = torch.max(softmax(out_logits, dim = 1),axis=1)\n",
    "        # msp, _ = torch.max(softmax(output.logits, dim = 1),axis=1)\n",
    "        msp = msp.detach().cpu().numpy()\n",
    "        \n",
    "        if msp_id_features is None:\n",
    "            msp_id_features = msp \n",
    "                \n",
    "        else:\n",
    "            msp_id_features = np.concatenate((msp_id_features, msp))\n",
    "            "
   ]
  },
  {
   "cell_type": "code",
   "execution_count": null,
   "metadata": {},
   "outputs": [],
   "source": []
  },
  {
   "cell_type": "code",
   "execution_count": 67,
   "metadata": {},
   "outputs": [],
   "source": [
    "def msp_get_features(model, ood_loader):\n",
    "    msp_ood_features = None\n",
    "\n",
    "    for batch in ood_loader:\n",
    "        if len(batch) == 2:\n",
    "            input, label = batch\n",
    "        else:\n",
    "            input = batch\n",
    "        input = Variable(input).to(device)\n",
    "        model.eval()\n",
    "        with torch.no_grad():\n",
    "            output = model(input)\n",
    "\n",
    "\n",
    "            out_logits = (output.logits - torch_means)/torch_stds\n",
    "            msp, _ = torch.max(softmax(out_logits, dim = 1),axis=1)\n",
    "            # msp, _ = torch.max(softmax(output.logits, dim = 1),axis=1)\n",
    "            msp = msp.detach().cpu().numpy()\n",
    "            \n",
    "            if msp_ood_features is None:\n",
    "                    msp_ood_features = msp \n",
    "                    \n",
    "            else:\n",
    "                msp_ood_features = np.concatenate((msp_ood_features, msp))\n",
    "    \n",
    "    return msp_ood_features"
   ]
  },
  {
   "cell_type": "code",
   "execution_count": 68,
   "metadata": {},
   "outputs": [],
   "source": [
    "msp_ood_features = msp_get_features(model, ood_loader)\n",
    "msp_ood_features2 = msp_get_features(model, ood_loader2)\n",
    "msp_ood_features3 = msp_get_features(model, ood_loader3)\n",
    "msp_ood_features4 = msp_get_features(model, ood_loader4)"
   ]
  },
  {
   "cell_type": "code",
   "execution_count": 69,
   "metadata": {},
   "outputs": [],
   "source": [
    "# msp_ood_features2 = None\n",
    "\n",
    "# for batch in ood_loader2:\n",
    "#     input = Variable(batch).to(device)\n",
    "#     model.eval()\n",
    "#     with torch.no_grad():\n",
    "#         output = model(input)\n",
    "\n",
    "\n",
    "#         out_logits = (output.logits - torch_means)/torch_stds\n",
    "#         msp, _ = torch.max(softmax(out_logits, dim = 1),axis=1)\n",
    "#         # msp, _ = torch.max(softmax(output.logits, dim = 1),axis=1)\n",
    "#         msp = msp.detach().cpu().numpy()\n",
    "        \n",
    "#         if msp_ood_features2 is None:\n",
    "#                 msp_ood_features2 = msp \n",
    "                \n",
    "#         else:\n",
    "#             msp_ood_features2 = np.concatenate((msp_ood_features2, msp))\n",
    "            "
   ]
  },
  {
   "attachments": {},
   "cell_type": "markdown",
   "metadata": {},
   "source": [
    "## Results MSP"
   ]
  },
  {
   "cell_type": "code",
   "execution_count": 70,
   "metadata": {},
   "outputs": [
    {
     "name": "stdout",
     "output_type": "stream",
     "text": [
      "Experiment 1: \n",
      "AUROC = 0.6243761388302081, AUPR = 0.8034893056063083, FPR95 = 0.851027397260274\n",
      "0.6244 & 0.8035 & 0.851\n",
      "Experiment 2: \n",
      "AUROC = 0.32332633191370846, AUPR = 0.7804446042233901, FPR95 = 0.9635036496350365\n",
      "0.3233 & 0.7804 & 0.9635\n",
      "Experiment 3: \n",
      "AUROC = 0.6209669877489946, AUPR = 0.957954071425523, FPR95 = 0.9411764705882353\n",
      "0.621 & 0.958 & 0.9412\n",
      "Experiment 4: \n",
      "AUROC = 0.5349551231904173, AUPR = 0.9312833149905833, FPR95 = 0.9365079365079365\n",
      "0.535 & 0.9313 & 0.9365\n"
     ]
    }
   ],
   "source": [
    "print(f'Experiment 1: ')\n",
    "auroc, aupr_in, aupr_out, fpr, fpr_, tpr_ = get_measures(msp_id_features.reshape(-1,1), msp_ood_features.reshape(-1,1))\n",
    "print(f'AUROC = {auroc}, AUPR = {aupr_in}, FPR95 = {fpr}')\n",
    "print(f'{round(auroc,4)} & {round(aupr_in,4)} & {round(fpr,4)}')\n",
    "\n",
    "print(f'Experiment 2: ')\n",
    "auroc, aupr_in, aupr_out, fpr, fpr_, tpr_ = get_measures(msp_id_features.reshape(-1,1), msp_ood_features2.reshape(-1,1))\n",
    "print(f'AUROC = {auroc}, AUPR = {aupr_in}, FPR95 = {fpr}')\n",
    "print(f'{round(auroc,4)} & {round(aupr_in,4)} & {round(fpr,4)}')\n",
    "\n",
    "\n",
    "print(f'Experiment 3: ')\n",
    "auroc, aupr_in, aupr_out, fpr, fpr_, tpr_ = get_measures(msp_id_features.reshape(-1,1), msp_ood_features3.reshape(-1,1))\n",
    "print(f'AUROC = {auroc}, AUPR = {aupr_in}, FPR95 = {fpr}')\n",
    "print(f'{round(auroc,4)} & {round(aupr_in,4)} & {round(fpr,4)}')\n",
    "\n",
    "\n",
    "print(f'Experiment 4: ')\n",
    "auroc, aupr_in, aupr_out, fpr, fpr_, tpr_ = get_measures(msp_id_features.reshape(-1,1), msp_ood_features4.reshape(-1,1))\n",
    "print(f'AUROC = {auroc}, AUPR = {aupr_in}, FPR95 = {fpr}')\n",
    "print(f'{round(auroc,4)} & {round(aupr_in,4)} & {round(fpr,4)}')\n"
   ]
  },
  {
   "cell_type": "code",
   "execution_count": 71,
   "metadata": {},
   "outputs": [],
   "source": []
  },
  {
   "cell_type": "code",
   "execution_count": 72,
   "metadata": {},
   "outputs": [
    {
     "data": {
      "image/png": "[encoded data removed]",
      "text/plain": [
       "<Figure size 400x500 with 1 Axes>"
      ]
     },
     "metadata": {},
     "output_type": "display_data"
    }
   ],
   "source": [
    "plt.figure(figsize=(4,5))\n",
    "\n",
    "sns.kdeplot(msp_id_features)\n",
    "sns.kdeplot(msp_ood_features2)\n",
    "plt.xlabel('Max softmax score')\n",
    "plt.legend(['In-Distribution','Out-of-Distribution'])\n",
    "\n",
    "plt.locator_params(axis='y', nbins=6)\n",
    "plt.locator_params(axis='x', nbins=5)"
   ]
  },
  {
   "cell_type": "code",
   "execution_count": 73,
   "metadata": {},
   "outputs": [
    {
     "data": {
      "text/plain": [
       "(array([0.38289915, 1.09399756, 1.03929768, 0.87519805, 1.20339732,\n",
       "        1.09399756, 1.20339732, 1.53159659, 1.69569622, 4.86828915]),\n",
       " array([0.33204943, 0.39877051, 0.46549159, 0.53221267, 0.59893376,\n",
       "        0.66565484, 0.73237592, 0.799097  , 0.86581808, 0.93253917,\n",
       "        0.99926025]),\n",
       " <BarContainer object of 10 artists>)"
      ]
     },
     "execution_count": 73,
     "metadata": {},
     "output_type": "execute_result"
    },
    {
     "data": {
      "image/png": "[encoded data removed]",
      "text/plain": [
       "<Figure size 640x480 with 1 Axes>"
      ]
     },
     "metadata": {},
     "output_type": "display_data"
    }
   ],
   "source": [
    "plt.hist(msp_id_features, density=True, alpha=0.5)\n",
    "plt.hist(msp_ood_features2, density=True, alpha=0.5)"
   ]
  },
  {
   "cell_type": "code",
   "execution_count": null,
   "metadata": {},
   "outputs": [],
   "source": []
  },
  {
   "attachments": {},
   "cell_type": "markdown",
   "metadata": {},
   "source": [
    "## Energy OOD Detection"
   ]
  },
  {
   "cell_type": "code",
   "execution_count": 74,
   "metadata": {},
   "outputs": [],
   "source": [
    "id_features = None\n",
    "\n",
    "temp = 1\n",
    "\n",
    "for batch in id_loader:\n",
    "    input, label = batch\n",
    "    input = Variable(input).to(device)\n",
    "    labels = label.numpy()\n",
    "    model.eval()\n",
    "    with torch.no_grad():\n",
    "        output = model(input)\n",
    "\n",
    "        out = temp*torch.logsumexp(output.logits/temp,dim=1)\n",
    "        energy = out.detach().cpu().numpy()\n",
    "        \n",
    "        if id_features is None:\n",
    "                id_features = energy \n",
    "                \n",
    "        else:\n",
    "            id_features = np.concatenate((id_features, energy))\n",
    "            "
   ]
  },
  {
   "cell_type": "code",
   "execution_count": 75,
   "metadata": {},
   "outputs": [],
   "source": [
    "def energy_get_features(model, ood_loader):\n",
    "    ood_features = None\n",
    "\n",
    "    temp = 1\n",
    "\n",
    "    for batch in ood_loader:\n",
    "        if len(batch) == 2:\n",
    "            input, label = batch\n",
    "        else:\n",
    "            input = batch\n",
    "        input = Variable(input).to(device)\n",
    "        \n",
    "        model.eval()\n",
    "        with torch.no_grad():\n",
    "            output = model(input)\n",
    "\n",
    "            out = temp*torch.logsumexp(output.logits/temp,dim=1)\n",
    "            energy = out.detach().cpu().numpy()\n",
    "            \n",
    "            if ood_features is None:\n",
    "                    ood_features = energy \n",
    "                    \n",
    "            else:\n",
    "                ood_features = np.concatenate((ood_features, energy))\n",
    "\n",
    "    return ood_features\n",
    "            "
   ]
  },
  {
   "cell_type": "code",
   "execution_count": 76,
   "metadata": {},
   "outputs": [],
   "source": [
    "ood_features  = energy_get_features(model, ood_loader)\n",
    "ood_features2 = energy_get_features(model, ood_loader2)\n",
    "ood_features3 = energy_get_features(model, ood_loader3)\n",
    "ood_features4 = energy_get_features(model, ood_loader4)"
   ]
  },
  {
   "cell_type": "code",
   "execution_count": 77,
   "metadata": {},
   "outputs": [],
   "source": [
    "# ood_features2 = None\n",
    "\n",
    "# temp = 1\n",
    "\n",
    "# for batch in ood_loader2:\n",
    "    \n",
    "#     input = Variable(batch).to(device)\n",
    "#     model.eval()\n",
    "#     with torch.no_grad():\n",
    "#         output = model(input)\n",
    "\n",
    "#         out = temp*torch.logsumexp(output.logits/temp,dim=1)\n",
    "#         energy = out.detach().cpu().numpy()\n",
    "        \n",
    "#         if ood_features2 is None:\n",
    "#                 ood_features2 = energy \n",
    "                \n",
    "#         else:\n",
    "#             ood_features2 = np.concatenate((ood_features2, energy))\n",
    "            "
   ]
  },
  {
   "cell_type": "markdown",
   "metadata": {},
   "source": []
  },
  {
   "attachments": {},
   "cell_type": "markdown",
   "metadata": {},
   "source": [
    "## Results Energy "
   ]
  },
  {
   "cell_type": "code",
   "execution_count": 78,
   "metadata": {},
   "outputs": [
    {
     "name": "stdout",
     "output_type": "stream",
     "text": [
      "Results experiment 1: \n",
      "AUROC = 0.6829569295322719, AUPR = 0.8642148099783898, FPR95 = 0.8664383561643836\n",
      "0.683 & 0.8642 & 0.8664\n",
      "Results experiment 2: \n",
      "AUROC = 0.6344852796119435, AUPR = 0.9318029596005007, FPR95 = 0.9781021897810219\n",
      "0.6345 & 0.9318 & 0.9781\n",
      "Results experiment 3: \n",
      "AUROC = 0.6656067832538421, AUPR = 0.9766794472144623, FPR95 = 0.9607843137254902\n",
      "0.6656 & 0.9767 & 0.9608\n",
      "Results experiment 4: \n",
      "AUROC = 0.6265971854207149, AUPR = 0.9673951292431617, FPR95 = 0.9761904761904762\n",
      "0.6266 & 0.9674 & 0.9762\n"
     ]
    }
   ],
   "source": [
    "print(f'Results experiment 1: ')\n",
    "auroc, aupr_in, aupr_out, fpr, fpr_, tpr_ = get_measures(id_features.reshape(-1,1), ood_features.reshape(-1,1))\n",
    "print(f'AUROC = {auroc}, AUPR = {aupr_in}, FPR95 = {fpr}')\n",
    "print(f'{round(auroc,4)} & {round(aupr_in,4)} & {round(fpr,4)}')\n",
    "\n",
    "\n",
    "print(f'Results experiment 2: ')\n",
    "auroc, aupr_in, aupr_out, fpr, fpr_, tpr_ = get_measures(id_features.reshape(-1,1), ood_features2.reshape(-1,1))\n",
    "print(f'AUROC = {auroc}, AUPR = {aupr_in}, FPR95 = {fpr}')\n",
    "print(f'{round(auroc,4)} & {round(aupr_in,4)} & {round(fpr,4)}')\n",
    "\n",
    "\n",
    "print(f'Results experiment 3: ')\n",
    "auroc, aupr_in, aupr_out, fpr, fpr_, tpr_ = get_measures(id_features.reshape(-1,1), ood_features3.reshape(-1,1))\n",
    "print(f'AUROC = {auroc}, AUPR = {aupr_in}, FPR95 = {fpr}')\n",
    "print(f'{round(auroc,4)} & {round(aupr_in,4)} & {round(fpr,4)}')\n",
    "\n",
    "\n",
    "print(f'Results experiment 4: ')\n",
    "auroc, aupr_in, aupr_out, fpr, fpr_, tpr_ = get_measures(id_features.reshape(-1,1), ood_features4.reshape(-1,1))\n",
    "print(f'AUROC = {auroc}, AUPR = {aupr_in}, FPR95 = {fpr}')\n",
    "print(f'{round(auroc,4)} & {round(aupr_in,4)} & {round(fpr,4)}')\n"
   ]
  },
  {
   "cell_type": "code",
   "execution_count": 79,
   "metadata": {},
   "outputs": [],
   "source": [
    "class GradVec():\n",
    "\n",
    "    def __init__(self, n_components = 3, temp=1.0, n_classes=1, computed_grad=False, gamma = 2.0, alpha=1.5):\n",
    "        self.components = n_components \n",
    "        self.temp = temp\n",
    "        self.n_classes = n_classes\n",
    "        self.computed_grad = computed_grad\n",
    "        self.gamma = gamma \n",
    "        self.alpha = alpha \n",
    "        \n",
    "    def get_gradients(self,model, loader, device, training_set = True):\n",
    "\n",
    "        confs = []\n",
    "        labels_ = []\n",
    "        \n",
    "        for b in tqdm(loader):\n",
    "\n",
    "            if training_set:\n",
    "                input_ids, labels = b \n",
    "                input_ids = Variable(input_ids).to(device)\n",
    "                labels = labels.cpu().numpy()\n",
    "                labels_.extend(labels)\n",
    "\n",
    "            else:\n",
    "                input_ids = Variable(b).to(device)\n",
    "\n",
    "            logits = model(input_ids)        \n",
    "            \n",
    "            targets = (torch.ones((logits.logits.shape[0], logits.logits.shape[1]))/self.n_classes).cuda()\n",
    "            outputs = logits.logits / self.temp\n",
    "            \n",
    "            ce_loss = torch.sum(-targets * F.log_softmax(outputs, dim=-1), dim=-1)\n",
    "            pt = torch.exp(-ce_loss)\n",
    "            loss1 = self.alpha * (1-pt)**self.gamma * ce_loss\n",
    "        \n",
    "            \n",
    "            #loss1 = criterion(targets, outputs)\n",
    "            \n",
    "            for loss in loss1:  \n",
    "                model.zero_grad()\n",
    "                loss.backward(retain_graph=True)\n",
    "\n",
    "                layer_grad = model.classifier.weight.grad.data\n",
    "                layer_vec = torch.mean(torch.abs(layer_grad), dim=0).cpu().numpy()\n",
    "                confs.append(layer_vec)\n",
    "\n",
    "                        \n",
    "        if training_set:\n",
    "            return np.array(confs), np.array(labels_)\n",
    "        else:\n",
    "            return np.array(confs), None\n",
    "\n",
    "\n",
    "    def fit_PCA(self, model, loader, device, labels=None):\n",
    "        self.pca_ = {} \n",
    "\n",
    "        if not self.computed_grad:\n",
    "            in_scores, labels = self.get_gradients(model, loader, device, training_set = True)\n",
    "        else: \n",
    "            in_scores = loader \n",
    "\n",
    "        for i in np.unique(labels):\n",
    "            #pca = PCA(n_components=self.components)\n",
    "            pca = GaussianMixture(n_components=1)\n",
    "            \n",
    "            X_fit = in_scores[labels==i]\n",
    "            pca.fit(X_fit)\n",
    "            self.pca_[f'pca_{i}'] = pca\n",
    "\n",
    "    def get_PCA_scores(self,model, loader, device, training_set = True):\n",
    "\n",
    "        if not self.computed_grad:\n",
    "            grads, labels = self.get_gradients(model, loader, device, training_set = training_set)\n",
    "        else:\n",
    "            grads = loader\n",
    "        scores_ = []\n",
    "        for _, estimator in self.pca_.items():\n",
    "            scores = estimator.score_samples(grads)\n",
    "            scores_.append(scores)\n",
    "        \n",
    "        grad_scores = np.max(np.array(scores_), axis=0)\n",
    "\n",
    "        if training_set:\n",
    "            return grad_scores, labels\n",
    "        else:\n",
    "            return grad_scores, None "
   ]
  },
  {
   "cell_type": "code",
   "execution_count": 80,
   "metadata": {},
   "outputs": [],
   "source": [
    "gradvec = GradVec(n_components=250, temp = 0.001, n_classes=5)"
   ]
  },
  {
   "cell_type": "code",
   "execution_count": 81,
   "metadata": {},
   "outputs": [],
   "source": [
    "for param in model.parameters():\n",
    "    param.requires_grad = False \n",
    "\n",
    "model.classifier.weight.requires_grad = True \n",
    "model.classifier.bias.requires_grad = True "
   ]
  },
  {
   "cell_type": "code",
   "execution_count": 82,
   "metadata": {},
   "outputs": [
    {
     "name": "stderr",
     "output_type": "stream",
     "text": [
      "100%|██████████| 236/236 [01:17<00:00,  3.06it/s]\n"
     ]
    }
   ],
   "source": [
    "gradvec.fit_PCA(model, train_loader, device)"
   ]
  },
  {
   "cell_type": "code",
   "execution_count": 83,
   "metadata": {},
   "outputs": [
    {
     "name": "stderr",
     "output_type": "stream",
     "text": [
      "100%|██████████| 1887/1887 [00:23<00:00, 81.42it/s]\n",
      "100%|██████████| 584/584 [00:07<00:00, 82.76it/s]\n",
      "100%|██████████| 274/274 [00:02<00:00, 93.94it/s]\n",
      "100%|██████████| 102/102 [00:00<00:00, 114.99it/s]\n",
      "100%|██████████| 126/126 [00:01<00:00, 113.09it/s]\n"
     ]
    }
   ],
   "source": [
    "in_grads, labels_in = gradvec.get_PCA_scores(model, id_loader, device, training_set = True)\n",
    "ood_grads, labels_ood = gradvec.get_PCA_scores(model, ood_loader, device, training_set = True)\n",
    "ood_grads2, _ = gradvec.get_PCA_scores(model, ood_loader2, device, training_set = False)\n",
    "ood_grads3, _ = gradvec.get_PCA_scores(model, ood_loader3, device, training_set = False)\n",
    "ood_grads4, _ = gradvec.get_PCA_scores(model, ood_loader4, device, training_set = False)\n"
   ]
  },
  {
   "cell_type": "code",
   "execution_count": 84,
   "metadata": {},
   "outputs": [
    {
     "name": "stdout",
     "output_type": "stream",
     "text": [
      "Experiment 1:\n",
      "AUROC = 0.761737664336375, AUPR = 0.9134252308900519 FPR95 = 0.7945205479452054\n",
      "Experiment 2:\n",
      "AUROC = 0.9862485929467467, AUPR = 0.9979918609188729 FPR95 = 0.0364963503649635\n",
      "Experiment 3:\n",
      "AUROC = 0.9908507123039995, AUPR = 0.999499422671143 FPR95 = 0.029411764705882353\n",
      "Experiment 4:\n",
      "AUROC = 0.9833657186598364, AUPR = 0.9989072467412151 FPR95 = 0.047619047619047616\n"
     ]
    }
   ],
   "source": [
    "print(f'Experiment 1:')\n",
    "auroc, aupr_in, aupr_out, fpr, fpr_, tpr_ = get_measures(in_grads.reshape(-1,1), ood_grads.reshape(-1,1))\n",
    "print(f'AUROC = {auroc}, AUPR = {aupr_in} FPR95 = {fpr}')\n",
    "\n",
    "print(f'Experiment 2:')\n",
    "auroc, aupr_in, aupr_out, fpr, fpr_, tpr_ = get_measures(in_grads.reshape(-1,1), ood_grads2.reshape(-1,1))\n",
    "print(f'AUROC = {auroc}, AUPR = {aupr_in} FPR95 = {fpr}')\n",
    "\n",
    "print(f'Experiment 3:')\n",
    "auroc, aupr_in, aupr_out, fpr, fpr_, tpr_ = get_measures(in_grads.reshape(-1,1), ood_grads3.reshape(-1,1))\n",
    "print(f'AUROC = {auroc}, AUPR = {aupr_in} FPR95 = {fpr}')\n",
    "\n",
    "print(f'Experiment 4:')\n",
    "auroc, aupr_in, aupr_out, fpr, fpr_, tpr_ = get_measures(in_grads.reshape(-1,1), ood_grads4.reshape(-1,1))\n",
    "print(f'AUROC = {auroc}, AUPR = {aupr_in} FPR95 = {fpr}')"
   ]
  },
  {
   "cell_type": "code",
   "execution_count": 85,
   "metadata": {},
   "outputs": [],
   "source": [
    "grads_minor = in_grads[in_grads<-3773.19254768441]\n",
    "grads_label = labels_in[in_grads<-3773.19254768441]"
   ]
  },
  {
   "cell_type": "code",
   "execution_count": 86,
   "metadata": {},
   "outputs": [
    {
     "data": {
      "text/plain": [
       "(array([  96.,    0.,    0.,  239.,    0.,    0., 1319.,    0.,    0.,\n",
       "         233.]),\n",
       " array([0. , 0.3, 0.6, 0.9, 1.2, 1.5, 1.8, 2.1, 2.4, 2.7, 3. ]),\n",
       " <BarContainer object of 10 artists>)"
      ]
     },
     "execution_count": 86,
     "metadata": {},
     "output_type": "execute_result"
    },
    {
     "data": {
      "image/png": "[encoded data removed]",
      "text/plain": [
       "<Figure size 640x480 with 1 Axes>"
      ]
     },
     "metadata": {},
     "output_type": "display_data"
    }
   ],
   "source": [
    "plt.hist(labels_in)"
   ]
  },
  {
   "cell_type": "code",
   "execution_count": 87,
   "metadata": {},
   "outputs": [],
   "source": [
    "g_, c_ = np.unique(grads_label,return_counts=True)\n",
    "\n",
    "_, c__ = np.unique(labels_in,return_counts=True)"
   ]
  },
  {
   "cell_type": "code",
   "execution_count": 88,
   "metadata": {},
   "outputs": [
    {
     "data": {
      "text/plain": [
       "array([1., 1., 1., 1.])"
      ]
     },
     "execution_count": 88,
     "metadata": {},
     "output_type": "execute_result"
    }
   ],
   "source": [
    "c_/c__"
   ]
  },
  {
   "cell_type": "code",
   "execution_count": 89,
   "metadata": {},
   "outputs": [
    {
     "data": {
      "image/png": "[encoded data removed]",
      "text/plain": [
       "<Figure size 400x500 with 1 Axes>"
      ]
     },
     "metadata": {},
     "output_type": "display_data"
    }
   ],
   "source": [
    "plt.figure(figsize=(4,5))\n",
    "sns.kdeplot(in_grads)\n",
    "sns.kdeplot(ood_grads2)\n",
    "plt.xlabel('Likelihood')\n",
    "plt.legend(['In-Distribution','Out-of-Distribution'])\n",
    "\n",
    "plt.locator_params(axis='y', nbins=6)\n",
    "plt.locator_params(axis='x', nbins=5)"
   ]
  },
  {
   "cell_type": "code",
   "execution_count": 90,
   "metadata": {},
   "outputs": [],
   "source": [
    "from sklearn.metrics import average_precision_score, roc_auc_score, roc_curve\n",
    "import numpy as np \n",
    "\n",
    "def stable_cumsum(arr, rtol=1e-05, atol=1e-08):\n",
    "    \"\"\"Use high precision for cumsum and check that final value matches sum\n",
    "    Parameters\n",
    "    ----------\n",
    "    arr : array-like\n",
    "        To be cumulatively summed as flat\n",
    "    rtol : float\n",
    "        Relative tolerance, see ``np.allclose``\n",
    "    atol : float\n",
    "        Absolute tolerance, see ``np.allclose``\n",
    "    \"\"\"\n",
    "    out = np.cumsum(arr, dtype=np.float64)\n",
    "    expected = np.sum(arr, dtype=np.float64)\n",
    "    if not np.allclose(out[-1], expected, rtol=rtol, atol=atol):\n",
    "        raise RuntimeError('cumsum was found to be unstable: '\n",
    "                           'its last element does not correspond to sum')\n",
    "    return out\n",
    "\n",
    "def fpr_and_fdr_at_recall(y_true, y_score, recall_level, pos_label=1.):\n",
    "    # make y_true a boolean vector\n",
    "    y_true = (y_true == pos_label)\n",
    "\n",
    "    # sort scores and corresponding truth values\n",
    "    desc_score_indices = np.argsort(y_score, kind=\"mergesort\")[::-1]\n",
    "    y_score = y_score[desc_score_indices]\n",
    "    y_true = y_true[desc_score_indices]\n",
    "\n",
    "    # y_score typically has many tied values. Here we extract\n",
    "    # the indices associated with the distinct values. We also\n",
    "    # concatenate a value for the end of the curve.\n",
    "    distinct_value_indices = np.where(np.diff(y_score))[0]\n",
    "    threshold_idxs = np.r_[distinct_value_indices, y_true.size - 1]\n",
    "\n",
    "    # accumulate the true positives with decreasing threshold\n",
    "    tps = stable_cumsum(y_true)[threshold_idxs]\n",
    "    fps = 1 + threshold_idxs - tps      # add one because of zero-based indexing\n",
    "\n",
    "    thresholds = y_score[threshold_idxs]\n",
    "\n",
    "    recall = tps / tps[-1]\n",
    "\n",
    "    last_ind = tps.searchsorted(tps[-1])\n",
    "    sl = slice(last_ind, None, -1)      # [last_ind::-1]\n",
    "    recall, fps, tps, thresholds = np.r_[recall[sl], 1], np.r_[fps[sl], 0], np.r_[tps[sl], 0], thresholds[sl]\n",
    "\n",
    "    cutoff = np.argmin(np.abs(recall - recall_level))\n",
    "    print(thresholds[cutoff])\n",
    "    return fps[cutoff] / (np.sum(np.logical_not(y_true)))   # , fps[cutoff]/(fps[cutoff] + tps[cutoff])\n",
    "\n",
    "def get_measures(in_examples, out_examples):\n",
    "    num_in = in_examples.shape[0]\n",
    "    num_out = out_examples.shape[0]\n",
    "\n",
    "    # logger.info(\"# in example is: {}\".format(num_in))\n",
    "    # logger.info(\"# out example is: {}\".format(num_out))\n",
    "\n",
    "    labels = np.zeros(num_in + num_out, dtype=np.int32)\n",
    "    labels[:num_in] += 1\n",
    "\n",
    "    examples = np.squeeze(np.vstack((in_examples, out_examples)))\n",
    "    aupr_in = average_precision_score(labels, examples)\n",
    "    auroc = roc_auc_score(labels, examples)\n",
    "\n",
    "    recall_level = 0.95\n",
    "    fpr = fpr_and_fdr_at_recall(labels, examples, recall_level)\n",
    "\n",
    "    labels_rev = np.zeros(num_in + num_out, dtype=np.int32)\n",
    "    labels_rev[num_in:] += 1\n",
    "    examples = np.squeeze(-np.vstack((in_examples, out_examples)))\n",
    "    aupr_out = average_precision_score(labels_rev, examples)\n",
    "\n",
    "    fpr_, tpr_, _ = roc_curve(labels, examples)\n",
    "\n",
    "\n",
    "    return auroc, aupr_in, aupr_out, fpr, fpr_, tpr_"
   ]
  },
  {
   "cell_type": "code",
   "execution_count": null,
   "metadata": {},
   "outputs": [],
   "source": []
  },
  {
   "cell_type": "code",
   "execution_count": 91,
   "metadata": {},
   "outputs": [
    {
     "data": {
      "text/plain": [
       "(array([  96.,    0.,    0.,  239.,    0.,    0., 1319.,    0.,    0.,\n",
       "         233.]),\n",
       " array([0. , 0.3, 0.6, 0.9, 1.2, 1.5, 1.8, 2.1, 2.4, 2.7, 3. ]),\n",
       " <BarContainer object of 10 artists>)"
      ]
     },
     "execution_count": 91,
     "metadata": {},
     "output_type": "execute_result"
    },
    {
     "data": {
      "image/png": "[encoded data removed]",
      "text/plain": [
       "<Figure size 640x480 with 1 Axes>"
      ]
     },
     "metadata": {},
     "output_type": "display_data"
    }
   ],
   "source": [
    "plt.hist(labels_in)"
   ]
  },
  {
   "cell_type": "code",
   "execution_count": 92,
   "metadata": {},
   "outputs": [
    {
     "data": {
      "image/png": "[encoded data removed]",
      "text/plain": [
       "<Figure size 800x500 with 1 Axes>"
      ]
     },
     "metadata": {},
     "output_type": "display_data"
    }
   ],
   "source": [
    "plt.figure(figsize=(8,5))\n",
    "legends = []\n",
    "for i in np.unique(labels_in):\n",
    "    sns.kdeplot(in_grads[labels_in==i])\n",
    "    legends.append(f'Class {i+1}')\n",
    "sns.kdeplot(ood_grads2)\n",
    "legends.append('Out-of-Distribution')\n",
    "plt.xlabel('Likelihood')\n",
    "plt.legend(legends)\n",
    "\n",
    "plt.locator_params(axis='y', nbins=6)\n",
    "plt.locator_params(axis='x', nbins=5)"
   ]
  },
  {
   "cell_type": "code",
   "execution_count": 93,
   "metadata": {},
   "outputs": [
    {
     "data": {
      "image/png": "[encoded data removed]",
      "text/plain": [
       "<Figure size 800x500 with 1 Axes>"
      ]
     },
     "metadata": {},
     "output_type": "display_data"
    }
   ],
   "source": [
    "plt.figure(figsize=(8,5))\n",
    "legends = []\n",
    "for i in np.unique(labels_in):\n",
    "    sns.kdeplot(in_grads[labels_in==i])\n",
    "    legends.append(f'Class {i+1}')\n",
    "sns.kdeplot(ood_grads2)\n",
    "legends.append('Out-of-Distribution')\n",
    "plt.xlabel('Likelihood')\n",
    "plt.legend(legends)\n",
    "\n",
    "plt.locator_params(axis='y', nbins=6)\n",
    "plt.locator_params(axis='x', nbins=5)"
   ]
  },
  {
   "cell_type": "code",
   "execution_count": 94,
   "metadata": {},
   "outputs": [
    {
     "data": {
      "image/png": "[encoded data removed]",
      "text/plain": [
       "<Figure size 800x500 with 1 Axes>"
      ]
     },
     "metadata": {},
     "output_type": "display_data"
    }
   ],
   "source": [
    "plt.figure(figsize=(8,5))\n",
    "legends = []\n",
    "for i in np.unique(labels_in):\n",
    "    sns.kdeplot(in_scores[labels_in==i])\n",
    "    legends.append(f'Class {i+1}')\n",
    "sns.kdeplot(ood_scores2)\n",
    "legends.append('Out-of-Distribution')\n",
    "plt.xlabel('Likelihood')\n",
    "plt.legend(legends)\n",
    "\n",
    "plt.locator_params(axis='y', nbins=6)\n",
    "plt.locator_params(axis='x', nbins=5)"
   ]
  },
  {
   "cell_type": "code",
   "execution_count": 95,
   "metadata": {},
   "outputs": [
    {
     "data": {
      "image/png": "[encoded data removed]",
      "text/plain": [
       "<Figure size 800x500 with 1 Axes>"
      ]
     },
     "metadata": {},
     "output_type": "display_data"
    }
   ],
   "source": [
    "plt.figure(figsize=(8,5))\n",
    "legends = []\n",
    "for i in np.unique(labels_in):\n",
    "    sns.kdeplot(msp_id_features[labels_in==i])\n",
    "    legends.append(f'Class {i+1}')\n",
    "sns.kdeplot(msp_ood_features2)\n",
    "legends.append('Out-of-Distribution')\n",
    "plt.xlabel('Likelihood')\n",
    "plt.legend(legends)\n",
    "\n",
    "plt.locator_params(axis='y', nbins=6)\n",
    "plt.locator_params(axis='x', nbins=5)"
   ]
  },
  {
   "cell_type": "code",
   "execution_count": null,
   "metadata": {},
   "outputs": [],
   "source": []
  },
  {
   "cell_type": "code",
   "execution_count": null,
   "metadata": {},
   "outputs": [],
   "source": []
  },
  {
   "cell_type": "code",
   "execution_count": null,
   "metadata": {},
   "outputs": [],
   "source": []
  },
  {
   "cell_type": "code",
   "execution_count": null,
   "metadata": {},
   "outputs": [],
   "source": []
  },
  {
   "cell_type": "code",
   "execution_count": null,
   "metadata": {},
   "outputs": [],
   "source": []
  },
  {
   "cell_type": "code",
   "execution_count": null,
   "metadata": {},
   "outputs": [],
   "source": []
  },
  {
   "cell_type": "code",
   "execution_count": null,
   "metadata": {},
   "outputs": [],
   "source": []
  },
  {
   "cell_type": "code",
   "execution_count": null,
   "metadata": {},
   "outputs": [],
   "source": []
  },
  {
   "cell_type": "code",
   "execution_count": null,
   "metadata": {},
   "outputs": [],
   "source": []
  },
  {
   "cell_type": "code",
   "execution_count": null,
   "metadata": {},
   "outputs": [],
   "source": []
  },
  {
   "cell_type": "code",
   "execution_count": null,
   "metadata": {},
   "outputs": [],
   "source": []
  },
  {
   "cell_type": "code",
   "execution_count": null,
   "metadata": {},
   "outputs": [],
   "source": []
  },
  {
   "cell_type": "code",
   "execution_count": null,
   "metadata": {},
   "outputs": [],
   "source": []
  },
  {
   "cell_type": "code",
   "execution_count": null,
   "metadata": {},
   "outputs": [],
   "source": []
  },
  {
   "cell_type": "code",
   "execution_count": null,
   "metadata": {},
   "outputs": [],
   "source": []
  },
  {
   "cell_type": "code",
   "execution_count": null,
   "metadata": {},
   "outputs": [],
   "source": []
  }
 ],
 "metadata": {
  "kernelspec": {
   "display_name": "Gradvec",
   "language": "python",
   "name": "gradvec"
  },
  "language_info": {
   "codemirror_mode": {
    "name": "ipython",
    "version": 3
   },
   "file_extension": ".py",
   "mimetype": "text/x-python",
   "name": "python",
   "nbconvert_exporter": "python",
   "pygments_lexer": "ipython3",
   "version": "3.10.9"
  },
  "orig_nbformat": 4
 },
 "nbformat": 4,
 "nbformat_minor": 2
}
